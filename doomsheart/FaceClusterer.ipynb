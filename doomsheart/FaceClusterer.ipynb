{
  "nbformat": 4,
  "nbformat_minor": 0,
  "metadata": {
    "colab": {
      "name": "FaceClustering.ipynb",
      "version": "0.3.2",
      "provenance": [],
      "collapsed_sections": []
    },
    "kernelspec": {
      "name": "python3",
      "display_name": "Python 3"
    }
  },
  "cells": [
    {
      "metadata": {
        "id": "5Zc8cvDNpt_K",
        "colab_type": "text"
      },
      "cell_type": "markdown",
      "source": [
        "Load Video\n",
        "\n",
        "1.   Load from Google Drive in Colab\n",
        "2.   Make directory\n",
        "\n"
      ]
    },
    {
      "metadata": {
        "id": "QW1TaHgYBnZ4",
        "colab_type": "code",
        "colab": {
          "base_uri": "https://localhost:8080/",
          "height": 36
        },
        "outputId": "819bbea8-8b20-4013-b347-8ca5a26edb81"
      },
      "cell_type": "code",
      "source": [
        "!ls drive/FaceClustering"
      ],
      "execution_count": 33,
      "outputs": [
        {
          "output_type": "stream",
          "text": [
            "lbpcascade_frontalface_improved.xml  WINNER_EVERYDAY.mp4\r\n"
          ],
          "name": "stdout"
        }
      ]
    },
    {
      "metadata": {
        "id": "S-2OTT6_rJiK",
        "colab_type": "code",
        "colab": {
          "base_uri": "https://localhost:8080/",
          "height": 241
        },
        "outputId": "f422863d-01dc-4a54-f81a-6f994b2ad213"
      },
      "cell_type": "code",
      "source": [
        "# Google Colab import files in google drive\n",
        "!apt-get install -y -qq software-properties-common python-software-properties module-init-tools\n",
        "!add-apt-repository -y ppa:alessandro-strada/ppa 2>&1 > /dev/null\n",
        "!apt-get update -qq 2>&1 > /dev/null\n",
        "!apt-get -y install -qq google-drive-ocamlfuse fuse\n",
        "\n",
        "from google.colab import auth\n",
        "auth.authenticate_user()\n",
        "\n",
        "from oauth2client.client import GoogleCredentials\n",
        "creds = GoogleCredentials.get_application_default()\n",
        "\n",
        "import getpass\n",
        "!google-drive-ocamlfuse -headless -id={creds.client_id} -secret={creds.client_secret} < /dev/null 2>&1 | grep URL\n",
        "vcode = getpass.getpass()\n",
        "!echo {vcode} | google-drive-ocamlfuse -headless -id={creds.client_id} -secret={creds.client_secret}\n",
        "!mkdir -p drive\n",
        "!google-drive-ocamlfuse drive\n",
        "!cd drive; ls; "
      ],
      "execution_count": 19,
      "outputs": [
        {
          "output_type": "stream",
          "text": [
            "gpg: keybox '/tmp/tmpw9gv7ppf/pubring.gpg' created\n",
            "gpg: /tmp/tmpw9gv7ppf/trustdb.gpg: trustdb created\n",
            "gpg: key AD5F235DF639B041: public key \"Launchpad PPA for Alessandro Strada\" imported\n",
            "gpg: Total number processed: 1\n",
            "gpg:               imported: 1\n",
            "Warning: apt-key output should not be parsed (stdout is not a terminal)\n",
            "··········\n",
            "fuse: mountpoint is not empty\n",
            "fuse: if you are sure this is safe, use the 'nonempty' mount option\n",
            "4월 27일 JUNO 한강 스터디.zip  FaceClustering\t\t      Windows10\n",
            "ColabNotebooks\t\t       웹크롤러 추가 기능 제안서.ods\n",
            "Colab Notebooks\t\t       학점시발.ods\n"
          ],
          "name": "stdout"
        }
      ]
    },
    {
      "metadata": {
        "id": "l0EbfMkai7Y6",
        "colab_type": "code",
        "colab": {
          "base_uri": "https://localhost:8080/",
          "height": 36
        },
        "outputId": "777e0b9d-ec8f-44e1-b142-5b114f20afa0"
      },
      "cell_type": "code",
      "source": [
        "!pip install tqdm\n",
        "from tqdm import tqdm\n",
        "import cv2 as cv\n",
        "import numpy as np\n",
        "import os\n",
        "import datetime\n",
        "from matplotlib import pyplot as plt"
      ],
      "execution_count": 1,
      "outputs": [
        {
          "output_type": "stream",
          "text": [
            "Requirement already satisfied: tqdm in /usr/local/lib/python3.6/dist-packages (4.25.0)\r\n"
          ],
          "name": "stdout"
        }
      ]
    },
    {
      "metadata": {
        "id": "CRSKqCJIqh8k",
        "colab_type": "code",
        "colab": {}
      },
      "cell_type": "code",
      "source": [
        "VIDEO_DIR = 'drive/FaceClustering/'\n",
        "VIDEO_FILE_NAME = 'WINNER_EVERYDAY.mp4'\n",
        "# PROGRAM_START_TIME = datetime.datetime.now().strftime('%Y%m%d_%H-%M-%S')\n",
        "PROGRAM_START_TIME = datetime.datetime.now().strftime('%Y%m%d')\n",
        "SAVE_CROPPED_FACE_DIR = 'drive/Cropped_imgs/' + PROGRAM_START_TIME + '-' + VIDEO_FILE_NAME.split('.')[0]\n",
        "CASCADE_DIR = 'drive/FaceClustering/lbpcascade_frontalface_improved.xml'"
      ],
      "execution_count": 0,
      "outputs": []
    },
    {
      "metadata": {
        "id": "AUU1he7ZwRQC",
        "colab_type": "code",
        "colab": {}
      },
      "cell_type": "code",
      "source": [
        "def make_directory(_directory_name):\n",
        "    if not os.path.exists(_directory_name):\n",
        "        os.makedirs(_directory_name)\n",
        "\n",
        "def get_area_of_frame_face_recognition(img, face_cascade):\n",
        "    grayed_img = cv.cvtColor(img, cv.COLOR_BGR2GRAY)\n",
        "    # def detectMultiScale(self, image, scaleFactor=None, minNeighbors=None, flags=None, minSize=None, maxSize=None)\n",
        "    face_area = face_cascade.detectMultiScale(image=grayed_img,scaleFactor=1.3,minNeighbors=5)\n",
        "    return face_area\n",
        "  \n",
        "def get_frame(video_capture, frame):\n",
        "    video_capture.set(cv.CAP_PROP_POS_FRAMES, frame)\n",
        "    ret, img = video_capture.read()\n",
        "    return img, frame, ret\n",
        "\n",
        "def save_cropped_img(img, faces, frame):\n",
        "    i = 0\n",
        "    if len(faces) != 0:\n",
        "        for (x, y, w, h) in faces:\n",
        "            face_img = img[y:y + h, x: x + w]\n",
        "#             cv.imwrite(SAVE_CROPPED_FACE_DIR + \"/\" + str(frame) + \"_\" + str(i) + \".jpg\", img[y:y + h, x: x + w])\n",
        "            cv.imwrite(SAVE_CROPPED_FACE_DIR + \"/\" + str(frame) + \"_\" + str(i) + \".jpg\", cv.resize(face_img, (256, 256), interpolation=cv.INTER_AREA))\n",
        "            i += 1\n",
        "    if cv.waitKey(1) & 0xFF == ord('q'):\n",
        "        return False\n",
        "    else:\n",
        "        return True"
      ],
      "execution_count": 0,
      "outputs": []
    },
    {
      "metadata": {
        "id": "F90yiqWvrcMq",
        "colab_type": "code",
        "colab": {
          "base_uri": "https://localhost:8080/",
          "height": 36
        },
        "outputId": "289216b4-7729-4240-d968-5669eb764eb1"
      },
      "cell_type": "code",
      "source": [
        "make_directory(SAVE_CROPPED_FACE_DIR)\n",
        "m_video_capture = cv.VideoCapture(VIDEO_DIR + VIDEO_FILE_NAME)\n",
        "m_face_cascade = cv.CascadeClassifier(CASCADE_DIR)\n",
        "TOTAL_FRAME = m_video_capture.get(cv.CAP_PROP_FRAME_COUNT)\n",
        "FRAME_STEP = 10\n",
        "LOAD_FAIL = []\n",
        "if len(os.listdir(SAVE_CROPPED_FACE_DIR) ) == 0:\n",
        "    for frame in tqdm(range(0, int(TOTAL_FRAME), FRAME_STEP)):\n",
        "        img, frame, ret = get_frame(video_capture=m_video_capture, frame=frame)\n",
        "        if not ret:\n",
        "            LOAD_FAIL.append(frame)\n",
        "            continue\n",
        "        faces_area = get_area_of_frame_face_recognition(img=img, face_cascade=m_face_cascade)\n",
        "        save_cropped_img(img, faces_area, frame)\n",
        "    if len(LOAD_FAIL) > 0:\n",
        "        print(\"Fail to load %d of frame(s)\" % len(LOAD_FAIL))\n",
        "        print(LOAD_FAIL)\n",
        "else:    \n",
        "    print(\"Directory is not empty\")\n",
        "    print(\"Already extracted in %s\" % PROGRAM_START_TIME)"
      ],
      "execution_count": 6,
      "outputs": [
        {
          "output_type": "stream",
          "text": [
            "\r0it [00:00, ?it/s]\n"
          ],
          "name": "stderr"
        }
      ]
    },
    {
      "metadata": {
        "id": "rLxwK8RQcrpu",
        "colab_type": "code",
        "colab": {
          "base_uri": "https://localhost:8080/",
          "height": 36
        },
        "outputId": "c3573d92-d2de-4ce7-e6cc-0bc8e0fa5159"
      },
      "cell_type": "code",
      "source": [
        "TOTAL_FRAME"
      ],
      "execution_count": 5,
      "outputs": [
        {
          "output_type": "execute_result",
          "data": {
            "text/plain": [
              "0.0"
            ]
          },
          "metadata": {
            "tags": []
          },
          "execution_count": 5
        }
      ]
    },
    {
      "metadata": {
        "id": "7nFPhcuPk9Sm",
        "colab_type": "code",
        "colab": {
          "base_uri": "https://localhost:8080/",
          "height": 364
        },
        "outputId": "00814338-c148-4209-b92a-bf2d6eed421f"
      },
      "cell_type": "code",
      "source": [
        "import matplotlib.pyplot as plt\n",
        "%matplotlib inline\n",
        "def ORB():\n",
        "    img = cv.imread(SAVE_CROPPED_FACE_DIR + '/870_0.jpg')\n",
        "    imgray = cv.cvtColor(img, cv.COLOR_BGR2GRAY)\n",
        "    img2 = None\n",
        "    orb = cv.ORB_create()\n",
        "    kp, des = orb.detectAndCompute(img, None)\n",
        "    img2 = cv.drawKeypoints(img, kp, img2, (0, 0, 255), flags=0)\n",
        "    plt.imshow(img2)\n",
        "\n",
        "ORB()"
      ],
      "execution_count": 32,
      "outputs": [
        {
          "output_type": "error",
          "ename": "error",
          "evalue": "ignored",
          "traceback": [
            "\u001b[0;31m---------------------------------------------------------------------------\u001b[0m",
            "\u001b[0;31merror\u001b[0m                                     Traceback (most recent call last)",
            "\u001b[0;32m<ipython-input-32-b8c941e85853>\u001b[0m in \u001b[0;36m<module>\u001b[0;34m()\u001b[0m\n\u001b[1;32m     10\u001b[0m     \u001b[0mplt\u001b[0m\u001b[0;34m.\u001b[0m\u001b[0mimshow\u001b[0m\u001b[0;34m(\u001b[0m\u001b[0mimg2\u001b[0m\u001b[0;34m)\u001b[0m\u001b[0;34m\u001b[0m\u001b[0m\n\u001b[1;32m     11\u001b[0m \u001b[0;34m\u001b[0m\u001b[0m\n\u001b[0;32m---> 12\u001b[0;31m \u001b[0mORB\u001b[0m\u001b[0;34m(\u001b[0m\u001b[0;34m)\u001b[0m\u001b[0;34m\u001b[0m\u001b[0m\n\u001b[0m",
            "\u001b[0;32m<ipython-input-32-b8c941e85853>\u001b[0m in \u001b[0;36mORB\u001b[0;34m()\u001b[0m\n\u001b[1;32m      3\u001b[0m \u001b[0;32mdef\u001b[0m \u001b[0mORB\u001b[0m\u001b[0;34m(\u001b[0m\u001b[0;34m)\u001b[0m\u001b[0;34m:\u001b[0m\u001b[0;34m\u001b[0m\u001b[0m\n\u001b[1;32m      4\u001b[0m     \u001b[0mimg\u001b[0m \u001b[0;34m=\u001b[0m \u001b[0mcv\u001b[0m\u001b[0;34m.\u001b[0m\u001b[0mimread\u001b[0m\u001b[0;34m(\u001b[0m\u001b[0mSAVE_CROPPED_FACE_DIR\u001b[0m \u001b[0;34m+\u001b[0m \u001b[0;34m'/870_0.jpg'\u001b[0m\u001b[0;34m)\u001b[0m\u001b[0;34m\u001b[0m\u001b[0m\n\u001b[0;32m----> 5\u001b[0;31m     \u001b[0mimgray\u001b[0m \u001b[0;34m=\u001b[0m \u001b[0mcv\u001b[0m\u001b[0;34m.\u001b[0m\u001b[0mcvtColor\u001b[0m\u001b[0;34m(\u001b[0m\u001b[0mimg\u001b[0m\u001b[0;34m,\u001b[0m \u001b[0mcv\u001b[0m\u001b[0;34m.\u001b[0m\u001b[0mCOLOR_BGR2GRAY\u001b[0m\u001b[0;34m)\u001b[0m\u001b[0;34m\u001b[0m\u001b[0m\n\u001b[0m\u001b[1;32m      6\u001b[0m     \u001b[0mimg2\u001b[0m \u001b[0;34m=\u001b[0m \u001b[0;32mNone\u001b[0m\u001b[0;34m\u001b[0m\u001b[0m\n\u001b[1;32m      7\u001b[0m     \u001b[0morb\u001b[0m \u001b[0;34m=\u001b[0m \u001b[0mcv\u001b[0m\u001b[0;34m.\u001b[0m\u001b[0mORB_create\u001b[0m\u001b[0;34m(\u001b[0m\u001b[0;34m)\u001b[0m\u001b[0;34m\u001b[0m\u001b[0m\n",
            "\u001b[0;31merror\u001b[0m: OpenCV(3.4.2) /io/opencv/modules/imgproc/src/color.hpp:253: error: (-215:Assertion failed) VScn::contains(scn) && VDcn::contains(dcn) && VDepth::contains(depth) in function 'CvtHelper'\n"
          ]
        }
      ]
    },
    {
      "metadata": {
        "id": "y8XZRodHmrSS",
        "colab_type": "code",
        "colab": {
          "base_uri": "https://localhost:8080/",
          "height": 377
        },
        "outputId": "99633b1d-0724-48c4-a26e-b42f3c4f1592"
      },
      "cell_type": "code",
      "source": [
        "def HarrisCorner():\n",
        "    img = cv.imread(SAVE_CROPPED_FACE_DIR + '/870_0.jpg')\n",
        "    img_gray = cv.cvtColor(img, cv.COLOR_BGR2GRAY)\n",
        "    corners = cv.cornerHarris(img_gray, 2, 3, 0.04)\n",
        "    plt.figure(figsize=(6, 6))\n",
        "    plt.imshow(corners, cmap='gray')\n",
        "HarrisCorner()"
      ],
      "execution_count": 15,
      "outputs": [
        {
          "output_type": "display_data",
          "data": {
            "image/png": "[encoded data removed]",
            "text/plain": [
              "<matplotlib.figure.Figure at 0x7f3ce9cbcd68>"
            ]
          },
          "metadata": {
            "tags": []
          }
        }
      ]
    },
    {
      "metadata": {
        "id": "P8-3LQzPJxSQ",
        "colab_type": "code",
        "colab": {}
      },
      "cell_type": "code",
      "source": [
        ""
      ],
      "execution_count": 0,
      "outputs": []
    },
    {
      "metadata": {
        "id": "-IVzAeFDynS-",
        "colab_type": "code",
        "colab": {
          "base_uri": "https://localhost:8080/",
          "height": 36
        },
        "outputId": "29487995-2ec7-4d4f-9917-cc9bbf913202"
      },
      "cell_type": "code",
      "source": [
        "face_list = []\n",
        "face_files = os.listdir(SAVE_CROPPED_FACE_DIR)\n",
        "for face_file_name in tqdm(face_files):\n",
        "    img = cv.imread(SAVE_CROPPED_FACE_DIR + '/' + face_file_name)\n",
        "    img_gray = cv.cvtColor(img, cv.COLOR_BGR2GRAY)\n",
        "    corners = cv.cornerHarris(img_gray, 2, 3, 0.04)\n",
        "    face_list.append(corners)\n",
        "face_list = np.asarray(face_list)"
      ],
      "execution_count": 16,
      "outputs": [
        {
          "output_type": "stream",
          "text": [
            "100%|██████████| 25/25 [00:00<00:00, 38.77it/s]\n"
          ],
          "name": "stderr"
        }
      ]
    },
    {
      "metadata": {
        "id": "E1Cb3vDXJXai",
        "colab_type": "code",
        "colab": {
          "base_uri": "https://localhost:8080/",
          "height": 484
        },
        "outputId": "a91b30d7-b1df-4e67-a0ee-a49c57d17010"
      },
      "cell_type": "code",
      "source": [
        "face_files"
      ],
      "execution_count": 31,
      "outputs": [
        {
          "output_type": "execute_result",
          "data": {
            "text/plain": [
              "['4760_0.jpg',\n",
              " '4350_0.jpg',\n",
              " '4150_0.jpg',\n",
              " '3170_0.jpg',\n",
              " '3160_0.jpg',\n",
              " '2820_0.jpg',\n",
              " '2590_0.jpg',\n",
              " '2570_0.jpg',\n",
              " '2360_0.jpg',\n",
              " '2260_0.jpg',\n",
              " '2250_0.jpg',\n",
              " '1510_0.jpg',\n",
              " '880_0.jpg',\n",
              " '870_0.jpg',\n",
              " '840_0.jpg',\n",
              " '830_0.jpg',\n",
              " '780_0.jpg',\n",
              " '450_0.jpg',\n",
              " '300_0.jpg',\n",
              " '290_0.jpg',\n",
              " '280_1.jpg',\n",
              " '280_0.jpg',\n",
              " '270_1.jpg',\n",
              " '270_0.jpg',\n",
              " '260_0.jpg']"
            ]
          },
          "metadata": {
            "tags": []
          },
          "execution_count": 31
        }
      ]
    },
    {
      "metadata": {
        "id": "1CqX1QEynMNp",
        "colab_type": "code",
        "colab": {}
      },
      "cell_type": "code",
      "source": [
        "criteria = (cv.TERM_CRITERIA_EPS + cv.TERM_CRITERIA_MAX_ITER, 10, 1.0)\n",
        "flags = cv.KMEANS_RANDOM_CENTERS\n",
        "compactness, clusters, centers = cv.kmeans(face_list, 4, None, criteria, 10, flags)\n",
        "# fig, ax = plt.subplots(2,5,figsize=(8,3))\n",
        "# centers = centers.reshape(5,256,256)\n",
        "# for axi, center in zip(ax.flat, centers):\n",
        "#     axi.set(xticks=[], yticks=[])\n",
        "#     axi.imshow(center, interpolation='nearest', cmap=plt.cm.binary)\n",
        "# plt.savefig('digits.png')\n",
        "\n",
        "# import numpy as np\n",
        "# from scipy.stats import mode\n",
        "# labels = np.zeros_like(clusters.ravel())\n",
        "# for i in range(10):\n",
        "#     mask = (clusters.ravel() == i)\n",
        "#     labels[mask] = mode(digits.target[mask])[0]"
      ],
      "execution_count": 0,
      "outputs": []
    },
    {
      "metadata": {
        "id": "g4NPSv-Vzlc0",
        "colab_type": "code",
        "colab": {
          "base_uri": "https://localhost:8080/",
          "height": 615
        },
        "outputId": "b0b30bb6-fb9a-423e-e2f3-a29121e16b50"
      },
      "cell_type": "code",
      "source": [
        "compactness, clusters, centers"
      ],
      "execution_count": 20,
      "outputs": [
        {
          "output_type": "execute_result",
          "data": {
            "text/plain": [
              "(0.0004899100744069074, array([[2],\n",
              "        [2],\n",
              "        [2],\n",
              "        [1],\n",
              "        [0],\n",
              "        [2],\n",
              "        [2],\n",
              "        [2],\n",
              "        [2],\n",
              "        [2],\n",
              "        [3],\n",
              "        [2],\n",
              "        [2],\n",
              "        [2],\n",
              "        [2],\n",
              "        [2],\n",
              "        [2],\n",
              "        [2],\n",
              "        [2],\n",
              "        [2],\n",
              "        [2],\n",
              "        [2],\n",
              "        [2],\n",
              "        [2],\n",
              "        [2]], dtype=int32), array([[ 5.4256668e-07,  5.4256668e-07,  1.0380556e-07, ...,\n",
              "         -2.0682637e-07,  6.6059665e-06,  4.2099347e-07],\n",
              "        [ 3.3860493e-07,  3.3860493e-07,  6.5598852e-07, ...,\n",
              "         -6.0347361e-08, -4.4998058e-07,  5.1850439e-08],\n",
              "        [-1.2770530e-06, -1.2770530e-06, -3.7239242e-06, ...,\n",
              "         -1.4728631e-10,  3.9743361e-11,  8.0484813e-11],\n",
              "        [-3.7840717e-11, -3.7840717e-11, -1.5136287e-10, ...,\n",
              "          6.2106089e-09, -3.3709169e-09, -1.3277135e-09]], dtype=float32))"
            ]
          },
          "metadata": {
            "tags": []
          },
          "execution_count": 20
        }
      ]
    },
    {
      "metadata": {
        "id": "7zBexGimDDNd",
        "colab_type": "code",
        "colab": {
          "base_uri": "https://localhost:8080/",
          "height": 317
        },
        "outputId": "efc78ced-a9fd-4301-e6ba-d8e35cd52da2"
      },
      "cell_type": "code",
      "source": [
        "compactness = []\n",
        "kvals = np.arange(1,10)\n",
        "for k in tqdm(kvals):\n",
        "    c, _, _ =  cv.kmeans(face_list, k, None, criteria, 10, flags)\n",
        "    compactness.append(c)\n",
        "plt.plot(kvals, compactness, 'o-', linewidth=4,\n",
        "        markersize=12)\n",
        "plt.xlabel('number of clusters')\n",
        "plt.ylabel('compactness')"
      ],
      "execution_count": 26,
      "outputs": [
        {
          "output_type": "stream",
          "text": [
            "100%|██████████| 9/9 [00:01<00:00,  5.36it/s]\n"
          ],
          "name": "stderr"
        },
        {
          "output_type": "execute_result",
          "data": {
            "text/plain": [
              "Text(0,0.5,'compactness')"
            ]
          },
          "metadata": {
            "tags": []
          },
          "execution_count": 26
        },
        {
          "output_type": "display_data",
          "data": {
            "image/png": "[encoded data removed]",
            "text/plain": [
              "<matplotlib.figure.Figure at 0x7f3ce3de90f0>"
            ]
          },
          "metadata": {
            "tags": []
          }
        }
      ]
    },
    {
      "metadata": {
        "id": "CbifSK1MJ1lw",
        "colab_type": "code",
        "colab": {}
      },
      "cell_type": "code",
      "source": [
        "import shutil"
      ],
      "execution_count": 0,
      "outputs": []
    },
    {
      "metadata": {
        "id": "nnYM0sbcFJ2B",
        "colab_type": "code",
        "colab": {
          "base_uri": "https://localhost:8080/",
          "height": 652
        },
        "outputId": "a8a18eed-3c03-4e45-caf1-e05074e03c0a"
      },
      "cell_type": "code",
      "source": [
        "# k = 5\n",
        "# compactness, clusters, centers = cv.kmeans(face_list, k, None, criteria, 10, flags)\n",
        "# make_directory(SAVE_CROPPED_FACE_DIR + \"_cluster_\" + str(k))\n",
        "# for i in range(k):\n",
        "#     make_directory(SAVE_CROPPED_FACE_DIR + \"_cluster_\" + str(k) + '/' + str(i))\n",
        "# for f_n, c_k in tqdm(zip(face_files, clusters)):\n",
        "#     shutil.copy2(SAVE_CROPPED_FACE_DIR + '/' + f_n, SAVE_CROPPED_FACE_DIR + \"_cluster_\" + str(k) + '/' + str(c_k[0]) + '/' + f_n)\n",
        "    \n",
        "# compactness, clusters, centers"
      ],
      "execution_count": 35,
      "outputs": [
        {
          "output_type": "execute_result",
          "data": {
            "text/plain": [
              "(0.00020967566314311625, array([[4],\n",
              "        [4],\n",
              "        [4],\n",
              "        [3],\n",
              "        [0],\n",
              "        [4],\n",
              "        [4],\n",
              "        [4],\n",
              "        [4],\n",
              "        [1],\n",
              "        [2],\n",
              "        [4],\n",
              "        [4],\n",
              "        [4],\n",
              "        [4],\n",
              "        [4],\n",
              "        [4],\n",
              "        [4],\n",
              "        [4],\n",
              "        [4],\n",
              "        [4],\n",
              "        [4],\n",
              "        [4],\n",
              "        [4],\n",
              "        [4]], dtype=int32), array([[ 5.4256668e-07,  5.4256668e-07,  1.0380556e-07, ...,\n",
              "         -2.0682637e-07,  6.6059665e-06,  4.2099347e-07],\n",
              "        [ 1.6259644e-10,  1.6259644e-10,  9.2823732e-10, ...,\n",
              "         -8.9141972e-11,  4.7786819e-10,  7.5215800e-10],\n",
              "        [-3.7840717e-11, -3.7840717e-11, -1.5136287e-10, ...,\n",
              "          6.2106089e-09, -3.3709169e-09, -1.3277135e-09],\n",
              "        [ 3.3860493e-07,  3.3860493e-07,  6.5598852e-07, ...,\n",
              "         -6.0347361e-08, -4.4998058e-07,  5.1850439e-08],\n",
              "        [-1.3378727e-06, -1.3378727e-06, -3.9012980e-06, ...,\n",
              "         -1.5005525e-10,  1.8886236e-11,  4.8500690e-11]], dtype=float32))"
            ]
          },
          "metadata": {
            "tags": []
          },
          "execution_count": 35
        }
      ]
    },
    {
      "metadata": {
        "id": "k4GPLrX5H350",
        "colab_type": "code",
        "colab": {
          "base_uri": "https://localhost:8080/",
          "height": 251
        },
        "outputId": "fd20137a-867f-4095-e93c-a9bda256670c"
      },
      "cell_type": "code",
      "source": [
        "k = 6\n",
        "compactness, clusters, centers = cv.kmeans(face_list, k, None, criteria, 10, flags)\n",
        "make_directory(SAVE_CROPPED_FACE_DIR + \"_cluster_\" + str(k))\n",
        "for i in range(k):\n",
        "    make_directory(SAVE_CROPPED_FACE_DIR + \"_cluster_\" + str(k) + '/' + str(i))\n",
        "for f_n, c_k in tqdm(zip(face_files, clusters)):\n",
        "    shutil.copy2(SAVE_CROPPED_FACE_DIR + '/' + f_n, SAVE_CROPPED_FACE_DIR + \"_cluster_\" + str(k) + '/' + str(c_k[0]) + '/' + f_n)\n",
        "    \n",
        "compactness, clusters, centers"
      ],
      "execution_count": 8,
      "outputs": [
        {
          "output_type": "error",
          "ename": "NameError",
          "evalue": "ignored",
          "traceback": [
            "\u001b[0;31m---------------------------------------------------------------------------\u001b[0m",
            "\u001b[0;31mNameError\u001b[0m                                 Traceback (most recent call last)",
            "\u001b[0;32m<ipython-input-8-1ada67cc8916>\u001b[0m in \u001b[0;36m<module>\u001b[0;34m()\u001b[0m\n\u001b[1;32m      1\u001b[0m \u001b[0mk\u001b[0m \u001b[0;34m=\u001b[0m \u001b[0;36m6\u001b[0m\u001b[0;34m\u001b[0m\u001b[0m\n\u001b[0;32m----> 2\u001b[0;31m \u001b[0mcompactness\u001b[0m\u001b[0;34m,\u001b[0m \u001b[0mclusters\u001b[0m\u001b[0;34m,\u001b[0m \u001b[0mcenters\u001b[0m \u001b[0;34m=\u001b[0m \u001b[0mcv\u001b[0m\u001b[0;34m.\u001b[0m\u001b[0mkmeans\u001b[0m\u001b[0;34m(\u001b[0m\u001b[0mface_list\u001b[0m\u001b[0;34m,\u001b[0m \u001b[0mk\u001b[0m\u001b[0;34m,\u001b[0m \u001b[0;32mNone\u001b[0m\u001b[0;34m,\u001b[0m \u001b[0mcriteria\u001b[0m\u001b[0;34m,\u001b[0m \u001b[0;36m10\u001b[0m\u001b[0;34m,\u001b[0m \u001b[0mflags\u001b[0m\u001b[0;34m)\u001b[0m\u001b[0;34m\u001b[0m\u001b[0m\n\u001b[0m\u001b[1;32m      3\u001b[0m \u001b[0mmake_directory\u001b[0m\u001b[0;34m(\u001b[0m\u001b[0mSAVE_CROPPED_FACE_DIR\u001b[0m \u001b[0;34m+\u001b[0m \u001b[0;34m\"_cluster_\"\u001b[0m \u001b[0;34m+\u001b[0m \u001b[0mstr\u001b[0m\u001b[0;34m(\u001b[0m\u001b[0mk\u001b[0m\u001b[0;34m)\u001b[0m\u001b[0;34m)\u001b[0m\u001b[0;34m\u001b[0m\u001b[0m\n\u001b[1;32m      4\u001b[0m \u001b[0;32mfor\u001b[0m \u001b[0mi\u001b[0m \u001b[0;32min\u001b[0m \u001b[0mrange\u001b[0m\u001b[0;34m(\u001b[0m\u001b[0mk\u001b[0m\u001b[0;34m)\u001b[0m\u001b[0;34m:\u001b[0m\u001b[0;34m\u001b[0m\u001b[0m\n\u001b[1;32m      5\u001b[0m     \u001b[0mmake_directory\u001b[0m\u001b[0;34m(\u001b[0m\u001b[0mSAVE_CROPPED_FACE_DIR\u001b[0m \u001b[0;34m+\u001b[0m \u001b[0;34m\"_cluster_\"\u001b[0m \u001b[0;34m+\u001b[0m \u001b[0mstr\u001b[0m\u001b[0;34m(\u001b[0m\u001b[0mk\u001b[0m\u001b[0;34m)\u001b[0m \u001b[0;34m+\u001b[0m \u001b[0;34m'/'\u001b[0m \u001b[0;34m+\u001b[0m \u001b[0mstr\u001b[0m\u001b[0;34m(\u001b[0m\u001b[0mi\u001b[0m\u001b[0;34m)\u001b[0m\u001b[0;34m)\u001b[0m\u001b[0;34m\u001b[0m\u001b[0m\n",
            "\u001b[0;31mNameError\u001b[0m: name 'face_list' is not defined"
          ]
        }
      ]
    },
    {
      "metadata": {
        "id": "QPt2NDVSH6_0",
        "colab_type": "code",
        "colab": {
          "base_uri": "https://localhost:8080/",
          "height": 325
        },
        "outputId": "31cf2e04-ce96-404a-e749-2a016f659131"
      },
      "cell_type": "code",
      "source": [
        "fig, ax = plt.subplots(1,6,figsize=(5,5))"
      ],
      "execution_count": 6,
      "outputs": [
        {
          "output_type": "display_data",
          "data": {
            "image/png": "[encoded data removed]",
            "text/plain": [
              "<matplotlib.figure.Figure at 0x7f67cb144f60>"
            ]
          },
          "metadata": {
            "tags": []
          }
        }
      ]
    },
    {
      "metadata": {
        "id": "J-1061YtY5YV",
        "colab_type": "code",
        "colab": {
          "base_uri": "https://localhost:8080/",
          "height": 176
        },
        "outputId": "1e35dbe3-d68b-4616-fc79-896e13fefff6"
      },
      "cell_type": "code",
      "source": [
        "centers.shape"
      ],
      "execution_count": 7,
      "outputs": [
        {
          "output_type": "error",
          "ename": "NameError",
          "evalue": "ignored",
          "traceback": [
            "\u001b[0;31m---------------------------------------------------------------------------\u001b[0m",
            "\u001b[0;31mNameError\u001b[0m                                 Traceback (most recent call last)",
            "\u001b[0;32m<ipython-input-7-425664b21e48>\u001b[0m in \u001b[0;36m<module>\u001b[0;34m()\u001b[0m\n\u001b[0;32m----> 1\u001b[0;31m \u001b[0mcenters\u001b[0m\u001b[0;34m.\u001b[0m\u001b[0mshape\u001b[0m\u001b[0;34m\u001b[0m\u001b[0m\n\u001b[0m",
            "\u001b[0;31mNameError\u001b[0m: name 'centers' is not defined"
          ]
        }
      ]
    },
    {
      "metadata": {
        "id": "6W2A6uOOZZ3c",
        "colab_type": "code",
        "colab": {}
      },
      "cell_type": "code",
      "source": [
        ""
      ],
      "execution_count": 0,
      "outputs": []
    }
  ]
}