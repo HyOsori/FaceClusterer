{
  "nbformat": 4,
  "nbformat_minor": 0,
  "metadata": {
    "colab": {
      "name": "FaceClustering.ipynb",
      "version": "0.3.2",
      "provenance": [],
      "collapsed_sections": []
    },
    "kernelspec": {
      "name": "python3",
      "display_name": "Python 3"
    }
  },
  "cells": [
    {
      "metadata": {
        "id": "5Zc8cvDNpt_K",
        "colab_type": "text"
      },
      "cell_type": "markdown",
      "source": [
        "Load Video\n",
        "\n",
        "1.   Load from Google Drive in Colab\n",
        "2.   Make directory\n",
        "\n"
      ]
    },
    {
      "metadata": {
        "id": "S-2OTT6_rJiK",
        "colab_type": "code",
        "colab": {
          "base_uri": "https://localhost:8080/",
          "height": 2688
        },
        "outputId": "735a3bc0-ce12-4f6f-9a07-b32258b594bf"
      },
      "cell_type": "code",
      "source": [
        "# Google Colab import files in google drive\n",
        "!apt-get install -y -qq software-properties-common python-software-properties module-init-tools\n",
        "!add-apt-repository -y ppa:alessandro-strada/ppa 2>&1 > /dev/null\n",
        "!apt-get update -qq 2>&1 > /dev/null\n",
        "!apt-get -y install -qq google-drive-ocamlfuse fuse\n",
        "\n",
        "from google.colab import auth\n",
        "auth.authenticate_user()\n",
        "\n",
        "from oauth2client.client import GoogleCredentials\n",
        "creds = GoogleCredentials.get_application_default()\n",
        "\n",
        "import getpass\n",
        "!google-drive-ocamlfuse -headless -id={creds.client_id} -secret={creds.client_secret} < /dev/null 2>&1 | grep URL\n",
        "vcode = getpass.getpass()\n",
        "!echo {vcode} | google-drive-ocamlfuse -headless -id={creds.client_id} -secret={creds.client_secret}\n",
        "!mkdir -p drive\n",
        "!google-drive-ocamlfuse drive\n",
        "!cd drive; ls; \n",
        "!ls drive/FaceClustering"
      ],
      "execution_count": 3,
      "outputs": [
        {
          "output_type": "stream",
          "text": [
            "Preconfiguring packages ...\n",
            "Selecting previously unselected package cron.\n",
            "(Reading database ... 18408 files and directories currently installed.)\n",
            "Preparing to unpack .../00-cron_3.0pl1-128ubuntu5_amd64.deb ...\n",
            "Unpacking cron (3.0pl1-128ubuntu5) ...\n",
            "Selecting previously unselected package libapparmor1:amd64.\n",
            "Preparing to unpack .../01-libapparmor1_2.11.0-2ubuntu17.1_amd64.deb ...\n",
            "Unpacking libapparmor1:amd64 (2.11.0-2ubuntu17.1) ...\n",
            "Selecting previously unselected package libdbus-1-3:amd64.\n",
            "Preparing to unpack .../02-libdbus-1-3_1.10.22-1ubuntu1_amd64.deb ...\n",
            "Unpacking libdbus-1-3:amd64 (1.10.22-1ubuntu1) ...\n",
            "Selecting previously unselected package dbus.\n",
            "Preparing to unpack .../03-dbus_1.10.22-1ubuntu1_amd64.deb ...\n",
            "Unpacking dbus (1.10.22-1ubuntu1) ...\n",
            "Selecting previously unselected package dirmngr.\n",
            "Preparing to unpack .../04-dirmngr_2.1.15-1ubuntu8.1_amd64.deb ...\n",
            "Unpacking dirmngr (2.1.15-1ubuntu8.1) ...\n",
            "Selecting previously unselected package distro-info-data.\n",
            "Preparing to unpack .../05-distro-info-data_0.36ubuntu0.2_all.deb ...\n",
            "Unpacking distro-info-data (0.36ubuntu0.2) ...\n",
            "Selecting previously unselected package libkmod2:amd64.\n",
            "Preparing to unpack .../06-libkmod2_24-1ubuntu2_amd64.deb ...\n",
            "Unpacking libkmod2:amd64 (24-1ubuntu2) ...\n",
            "Selecting previously unselected package kmod.\n",
            "Preparing to unpack .../07-kmod_24-1ubuntu2_amd64.deb ...\n",
            "Unpacking kmod (24-1ubuntu2) ...\n",
            "Selecting previously unselected package lsb-release.\n",
            "Preparing to unpack .../08-lsb-release_9.20160110ubuntu5_all.deb ...\n",
            "Unpacking lsb-release (9.20160110ubuntu5) ...\n",
            "Selecting previously unselected package libgirepository-1.0-1:amd64.\n",
            "Preparing to unpack .../09-libgirepository-1.0-1_1.54.1-1_amd64.deb ...\n",
            "Unpacking libgirepository-1.0-1:amd64 (1.54.1-1) ...\n",
            "Selecting previously unselected package gir1.2-glib-2.0:amd64.\n",
            "Preparing to unpack .../10-gir1.2-glib-2.0_1.54.1-1_amd64.deb ...\n",
            "Unpacking gir1.2-glib-2.0:amd64 (1.54.1-1) ...\n",
            "Selecting previously unselected package iso-codes.\n",
            "Preparing to unpack .../11-iso-codes_3.75-1_all.deb ...\n",
            "Unpacking iso-codes (3.75-1) ...\n",
            "Selecting previously unselected package libdbus-glib-1-2:amd64.\n",
            "Preparing to unpack .../12-libdbus-glib-1-2_0.108-2_amd64.deb ...\n",
            "Unpacking libdbus-glib-1-2:amd64 (0.108-2) ...\n",
            "Selecting previously unselected package python-apt-common.\n",
            "Preparing to unpack .../13-python-apt-common_1.4.0~beta3build2_all.deb ...\n",
            "Unpacking python-apt-common (1.4.0~beta3build2) ...\n",
            "Selecting previously unselected package python3-apt.\n",
            "Preparing to unpack .../14-python3-apt_1.4.0~beta3build2_amd64.deb ...\n",
            "Unpacking python3-apt (1.4.0~beta3build2) ...\n",
            "Selecting previously unselected package python3-dbus.\n",
            "Preparing to unpack .../15-python3-dbus_1.2.4-1build3_amd64.deb ...\n",
            "Unpacking python3-dbus (1.2.4-1build3) ...\n",
            "Selecting previously unselected package python3-gi.\n",
            "Preparing to unpack .../16-python3-gi_3.24.1-2build1_amd64.deb ...\n",
            "Unpacking python3-gi (3.24.1-2build1) ...\n",
            "Selecting previously unselected package module-init-tools.\n",
            "Preparing to unpack .../17-module-init-tools_24-1ubuntu2_all.deb ...\n",
            "Unpacking module-init-tools (24-1ubuntu2) ...\n",
            "Selecting previously unselected package python-apt.\n",
            "Preparing to unpack .../18-python-apt_1.4.0~beta3build2_amd64.deb ...\n",
            "Unpacking python-apt (1.4.0~beta3build2) ...\n",
            "Selecting previously unselected package python-pycurl.\n",
            "Preparing to unpack .../19-python-pycurl_7.43.0-2build2_amd64.deb ...\n",
            "Unpacking python-pycurl (7.43.0-2build2) ...\n",
            "Selecting previously unselected package python-software-properties.\n",
            "Preparing to unpack .../20-python-software-properties_0.96.24.17_all.deb ...\n",
            "Unpacking python-software-properties (0.96.24.17) ...\n",
            "Selecting previously unselected package python3-software-properties.\n",
            "Preparing to unpack .../21-python3-software-properties_0.96.24.17_all.deb ...\n",
            "Unpacking python3-software-properties (0.96.24.17) ...\n",
            "Selecting previously unselected package software-properties-common.\n",
            "Preparing to unpack .../22-software-properties-common_0.96.24.17_all.deb ...\n",
            "Unpacking software-properties-common (0.96.24.17) ...\n",
            "Selecting previously unselected package unattended-upgrades.\n",
            "Preparing to unpack .../23-unattended-upgrades_0.98ubuntu1.1_all.deb ...\n",
            "Unpacking unattended-upgrades (0.98ubuntu1.1) ...\n",
            "Setting up python-apt-common (1.4.0~beta3build2) ...\n",
            "Setting up python3-apt (1.4.0~beta3build2) ...\n",
            "Setting up iso-codes (3.75-1) ...\n",
            "Setting up distro-info-data (0.36ubuntu0.2) ...\n",
            "Setting up python-pycurl (7.43.0-2build2) ...\n",
            "Setting up lsb-release (9.20160110ubuntu5) ...\n",
            "Setting up libgirepository-1.0-1:amd64 (1.54.1-1) ...\n",
            "Setting up libkmod2:amd64 (24-1ubuntu2) ...\n",
            "Setting up gir1.2-glib-2.0:amd64 (1.54.1-1) ...\n",
            "Processing triggers for libc-bin (2.26-0ubuntu2.1) ...\n",
            "Setting up libapparmor1:amd64 (2.11.0-2ubuntu17.1) ...\n",
            "Setting up unattended-upgrades (0.98ubuntu1.1) ...\n",
            "\n",
            "Creating config file /etc/apt/apt.conf.d/20auto-upgrades with new version\n",
            "\n",
            "Creating config file /etc/apt/apt.conf.d/50unattended-upgrades with new version\n",
            "invoke-rc.d: could not determine current runlevel\n",
            "invoke-rc.d: policy-rc.d denied execution of start.\n",
            "Setting up dirmngr (2.1.15-1ubuntu8.1) ...\n",
            "Setting up cron (3.0pl1-128ubuntu5) ...\n",
            "Adding group `crontab' (GID 102) ...\n",
            "Done.\n",
            "update-rc.d: warning: start and stop actions are no longer supported; falling back to defaults\n",
            "update-rc.d: warning: stop runlevel arguments (1) do not match cron Default-Stop values (none)\n",
            "invoke-rc.d: could not determine current runlevel\n",
            "invoke-rc.d: policy-rc.d denied execution of start.\n",
            "Setting up libdbus-1-3:amd64 (1.10.22-1ubuntu1) ...\n",
            "Setting up kmod (24-1ubuntu2) ...\n",
            "Setting up libdbus-glib-1-2:amd64 (0.108-2) ...\n",
            "Setting up python3-gi (3.24.1-2build1) ...\n",
            "Setting up module-init-tools (24-1ubuntu2) ...\n",
            "Setting up python3-software-properties (0.96.24.17) ...\n",
            "Setting up dbus (1.10.22-1ubuntu1) ...\n",
            "Setting up python-apt (1.4.0~beta3build2) ...\n",
            "Setting up python3-dbus (1.2.4-1build3) ...\n",
            "Setting up python-software-properties (0.96.24.17) ...\n",
            "Setting up software-properties-common (0.96.24.17) ...\n",
            "Processing triggers for libc-bin (2.26-0ubuntu2.1) ...\n",
            "Processing triggers for dbus (1.10.22-1ubuntu1) ...\n",
            "gpg: keybox '/tmp/tmps2bno76v/pubring.gpg' created\n",
            "gpg: /tmp/tmps2bno76v/trustdb.gpg: trustdb created\n",
            "gpg: key AD5F235DF639B041: public key \"Launchpad PPA for Alessandro Strada\" imported\n",
            "gpg: Total number processed: 1\n",
            "gpg:               imported: 1\n",
            "Warning: apt-key output should not be parsed (stdout is not a terminal)\n",
            "Selecting previously unselected package libfuse2:amd64.\n",
            "(Reading database ... 19816 files and directories currently installed.)\n",
            "Preparing to unpack .../libfuse2_2.9.7-1ubuntu1_amd64.deb ...\n",
            "Unpacking libfuse2:amd64 (2.9.7-1ubuntu1) ...\n",
            "Selecting previously unselected package fuse.\n",
            "Preparing to unpack .../fuse_2.9.7-1ubuntu1_amd64.deb ...\n",
            "Unpacking fuse (2.9.7-1ubuntu1) ...\n",
            "Selecting previously unselected package google-drive-ocamlfuse.\n",
            "Preparing to unpack .../google-drive-ocamlfuse_0.6.21-0ubuntu2_amd64.deb ...\n",
            "Unpacking google-drive-ocamlfuse (0.6.21-0ubuntu2) ...\n",
            "Setting up libfuse2:amd64 (2.9.7-1ubuntu1) ...\n",
            "Processing triggers for libc-bin (2.26-0ubuntu2.1) ...\n",
            "Setting up fuse (2.9.7-1ubuntu1) ...\n",
            "Setting up google-drive-ocamlfuse (0.6.21-0ubuntu2) ...\n",
            "Please, open the following URL in a web browser: https://accounts.google.com/o/oauth2/auth?client_id=32555940559.apps.googleusercontent.com&redirect_uri=urn%3Aietf%3Awg%3Aoauth%3A2.0%3Aoob&scope=https%3A%2F%2Fwww.googleapis.com%2Fauth%2Fdrive&response_type=code&access_type=offline&approval_prompt=force\n",
            "··········\n",
            "Please, open the following URL in a web browser: https://accounts.google.com/o/oauth2/auth?client_id=32555940559.apps.googleusercontent.com&redirect_uri=urn%3Aietf%3Awg%3Aoauth%3A2.0%3Aoob&scope=https%3A%2F%2Fwww.googleapis.com%2Fauth%2Fdrive&response_type=code&access_type=offline&approval_prompt=force\n",
            "Please enter the verification code: Access token retrieved correctly.\n",
            "4월 27일 JUNO 한강 스터디.zip  FaceClustering  웹크롤러 추가 기능 제안서.ods\n",
            "ColabNotebooks\t\t       ID0\t       학점시발.ods\n",
            "Colab Notebooks\t\t       ID-1\t       Windows10\n",
            "Cropped_imgs\t\t       Oasis\n",
            "lbpcascade_frontalface_improved.xml  PowerUp.mp4\n"
          ],
          "name": "stdout"
        }
      ]
    },
    {
      "metadata": {
        "id": "l0EbfMkai7Y6",
        "colab_type": "code",
        "colab": {
          "base_uri": "https://localhost:8080/",
          "height": 36
        },
        "outputId": "8520c58f-f07b-487b-f803-9512ad1b399f"
      },
      "cell_type": "code",
      "source": [
        "!pip install tqdm\n",
        "from tqdm import tqdm\n",
        "import cv2 as cv\n",
        "import numpy as np\n",
        "import os\n",
        "import datetime\n",
        "from matplotlib import pyplot as plt\n",
        "%matplotlib inline\n",
        "import shutil\n",
        "\n",
        "VIDEO_DIR = 'drive/FaceClustering/'\n",
        "VIDEO_FILE_NAME = 'PowerUp.mp4'\n",
        "# PROGRAM_START_TIME = datetime.datetime.now().strftime('%Y%m%d_%H-%M-%S')\n",
        "# PROGRAM_START_TIME = datetime.datetime.now().strftime('%Y%m%d')\n",
        "PROGRAM_START_TIME = '20180827'\n",
        "SAVE_CROPPED_FACE_DIR = 'drive/Cropped_imgs/' + PROGRAM_START_TIME + '-' + VIDEO_FILE_NAME.split('.')[0]\n",
        "CASCADE_DIR = 'drive/FaceClustering/lbpcascade_frontalface_improved.xml'\n",
        "\n",
        "criteria = (cv.TERM_CRITERIA_EPS + cv.TERM_CRITERIA_MAX_ITER, 10, 1.0)\n",
        "flags = cv.KMEANS_RANDOM_CENTERS\n",
        "\n",
        "def make_directory(_directory_name):\n",
        "    if not os.path.exists(_directory_name):\n",
        "        os.makedirs(_directory_name)\n",
        "        \n",
        "def get_area_of_frame_face_recognition(img, face_cascade):\n",
        "    grayed_img = cv.cvtColor(img, cv.COLOR_BGR2GRAY)\n",
        "    # def detectMultiScale(self, image, scaleFactor=None, minNeighbors=None, flags=None, minSize=None, maxSize=None)\n",
        "    face_area = face_cascade.detectMultiScale(image=grayed_img,scaleFactor=1.3,minNeighbors=5)\n",
        "    return face_area\n",
        "  \n",
        "def get_frame(video_capture, frame):\n",
        "    video_capture.set(cv.CAP_PROP_POS_FRAMES, frame)\n",
        "    ret, img = video_capture.read()\n",
        "    return img, frame, ret\n",
        "\n",
        "def save_cropped_img(img, faces, frame):\n",
        "    i = 0\n",
        "    if len(faces) != 0:\n",
        "        for (x, y, w, h) in faces:\n",
        "            iter = 0.4          \n",
        "            while True:\n",
        "                try:\n",
        "                    face_img = img[int(y - h * iter): int(y + (1 + iter) * h),\n",
        "                                   int(x - w * iter): int(x + (1 + iter) * w)]\n",
        "                    if int(y - h * iter) < 0 or int(x - w * iter) < 0:\n",
        "                        raise ValueError('range is false')\n",
        "                    break\n",
        "                except:\n",
        "                    iter = iter * 0.8\n",
        "                  #             cv.imwrite(SAVE_CROPPED_FACE_DIR + \"/\" + str(frame) + \"_\" + str(i) + \".jpg\", img[y:y + h, x: x + w])\n",
        "            try:\n",
        "                cv.imwrite(SAVE_CROPPED_FACE_DIR + \"/\" + str(frame) + \"_\" + str(i) + \".jpg\", cv.resize(face_img, (96, 96), interpolation=cv.INTER_AREA))\n",
        "            except:\n",
        "                print(int(y - h * iter))\n",
        "                print(int(x - w * iter))\n",
        "            i += 1\n",
        "\n",
        "# this function show image and quit when press q or end\n",
        "def show_img(img, faces):\n",
        "    if len(faces) != 0:\n",
        "        for (x, y, w, h) in faces:\n",
        "            cv.rectangle(img, (x, y), (x + w, y + h), (255, 0, 0), 1)\n",
        "    cv.imshow('hello', img)\n",
        "    if cv.waitKey(1) & 0xFF == ord('q'):\n",
        "        return False\n",
        "    else:\n",
        "        return True\n",
        "      \n",
        "def ORB():\n",
        "    img = cv.imread(SAVE_CROPPED_FACE_DIR + '/130_0.jpg')\n",
        "    imgray = cv.cvtColor(img, cv.COLOR_BGR2GRAY)\n",
        "    img2 = None\n",
        "    orb = cv.ORB_create()\n",
        "    kp, des = orb.detectAndCompute(img, None)\n",
        "#     img2 = cv.drawKeypoints(img, kp, img2, (0, 0, 255), flags=0)\n",
        "#     plt.imshow(img2)\n",
        "    return kp, des \n",
        "\n",
        "def HarrisCorner():\n",
        "    img = cv.imread(SAVE_CROPPED_FACE_DIR + '/130_0.jpg')\n",
        "    img_gray = cv.cvtColor(img, cv.COLOR_BGR2GRAY)\n",
        "    corners = cv.cornerHarris(img_gray, 2, 3, 0.04)\n",
        "#     plt.figure(figsize=(6, 6))\n",
        "#     plt.imshow(corners, cmap='gray')\n",
        "    return coners"
      ],
      "execution_count": 7,
      "outputs": [
        {
          "output_type": "stream",
          "text": [
            "Requirement already satisfied: tqdm in /usr/local/lib/python3.6/dist-packages (4.25.0)\r\n"
          ],
          "name": "stdout"
        }
      ]
    },
    {
      "metadata": {
        "id": "8PgytfcWI2pE",
        "colab_type": "code",
        "colab": {}
      },
      "cell_type": "code",
      "source": [
        "!ls drive/Cropped_imgs/"
      ],
      "execution_count": 0,
      "outputs": []
    },
    {
      "metadata": {
        "id": "F90yiqWvrcMq",
        "colab_type": "code",
        "colab": {}
      },
      "cell_type": "code",
      "source": [
        "make_directory(SAVE_CROPPED_FACE_DIR)\n",
        "m_video_capture = cv.VideoCapture(VIDEO_DIR + VIDEO_FILE_NAME)\n",
        "m_face_cascade = cv.CascadeClassifier(CASCADE_DIR)\n",
        "TOTAL_FRAME = m_video_capture.get(cv.CAP_PROP_FRAME_COUNT)\n",
        "FRAME_STEP = 10\n",
        "LOAD_FAIL = []\n",
        "if len(os.listdir(SAVE_CROPPED_FACE_DIR)) == 0:\n",
        "    for frame in tqdm(range(0, int(TOTAL_FRAME), FRAME_STEP)):\n",
        "        img, frame, ret = get_frame(video_capture=m_video_capture, frame=frame)\n",
        "        if not ret:\n",
        "            LOAD_FAIL.append(frame)\n",
        "            continue\n",
        "        faces_area = get_area_of_frame_face_recognition(img=img, face_cascade=m_face_cascade)\n",
        "        save_cropped_img(img, faces_area, frame)\n",
        "    if len(LOAD_FAIL) > 0:\n",
        "        print(\"Fail to load %d of frame(s)\" % len(LOAD_FAIL))\n",
        "        print(LOAD_FAIL)\n",
        "else:    \n",
        "    print(\"Directory is not empty\")\n",
        "    print(\"Already extracted in %s\" % PROGRAM_START_TIME)"
      ],
      "execution_count": 0,
      "outputs": []
    },
    {
      "metadata": {
        "id": "-IVzAeFDynS-",
        "colab_type": "code",
        "colab": {
          "base_uri": "https://localhost:8080/",
          "height": 913
        },
        "outputId": "311f702f-2a34-4b4b-e76e-d2683a0d8f46"
      },
      "cell_type": "code",
      "source": [
        "face_list = []\n",
        "face_files = os.listdir(SAVE_CROPPED_FACE_DIR)\n",
        "for face_file_name in tqdm(face_files):\n",
        "    img = cv.imread(SAVE_CROPPED_FACE_DIR + '/' + face_file_name)\n",
        "    img_gray = cv.cvtColor(img, cv.COLOR_BGR2GRAY)\n",
        "    img_blur = cv.GaussianBlur(img_gray, (3,3), 0)\n",
        "    img_sharp = cv.Laplacian(img_blur, cv.CV_64F)\n",
        "#     corners = cv.cornerHarris(img_gray, 2, 3, 0.04)\n",
        "#     face_list.append(img_gray)\n",
        "    face_list.append(img_sharp.flatten())\n",
        "#     rgb_img = cv.cvtColor(img, cv.COLOR_BGR2RGB)\n",
        "#     face_list.append(rgb_img)"
      ],
      "execution_count": 10,
      "outputs": [
        {
          "output_type": "stream",
          "text": [
            "\n",
            "  0%|          | 0/223 [00:00<?, ?it/s]\u001b[A\n",
            "  2%|▏         | 5/223 [00:00<00:05, 42.06it/s]\u001b[A\n",
            "  4%|▍         | 9/223 [00:00<00:05, 40.28it/s]\u001b[A\n",
            "  6%|▋         | 14/223 [00:00<00:05, 40.33it/s]\u001b[A\n",
            "  8%|▊         | 18/223 [00:00<00:05, 39.65it/s]\u001b[A\n",
            " 10%|▉         | 22/223 [00:00<00:05, 39.05it/s]\u001b[A\n",
            " 12%|█▏        | 26/223 [00:00<00:05, 39.02it/s]\u001b[A\n",
            " 13%|█▎        | 30/223 [00:00<00:04, 38.78it/s]\u001b[A\n",
            " 16%|█▌        | 35/223 [00:00<00:04, 39.08it/s]\u001b[A\n",
            " 18%|█▊        | 40/223 [00:01<00:04, 39.89it/s]\u001b[A\n",
            " 20%|██        | 45/223 [00:01<00:04, 40.03it/s]\u001b[A\n",
            " 22%|██▏       | 50/223 [00:01<00:04, 40.26it/s]\u001b[A\n",
            " 25%|██▍       | 55/223 [00:01<00:04, 40.65it/s]\u001b[A\n",
            " 27%|██▋       | 60/223 [00:01<00:03, 40.84it/s]\u001b[A\n",
            " 29%|██▉       | 65/223 [00:01<00:03, 41.18it/s]\u001b[A\n",
            " 31%|███▏      | 70/223 [00:01<00:03, 41.38it/s]\u001b[A\n",
            " 34%|███▎      | 75/223 [00:01<00:03, 41.68it/s]\u001b[A\n",
            " 36%|███▌      | 80/223 [00:01<00:03, 41.68it/s]\u001b[A\n",
            " 38%|███▊      | 85/223 [00:02<00:03, 41.85it/s]\u001b[A\n",
            " 40%|████      | 90/223 [00:02<00:03, 41.97it/s]\u001b[A\n",
            " 43%|████▎     | 95/223 [00:02<00:03, 42.03it/s]\u001b[A\n",
            " 45%|████▍     | 100/223 [00:02<00:02, 42.11it/s]\u001b[A\n",
            " 47%|████▋     | 105/223 [00:02<00:02, 42.18it/s]\u001b[A\n",
            " 49%|████▉     | 110/223 [00:02<00:02, 42.12it/s]\u001b[A\n",
            " 52%|█████▏    | 115/223 [00:02<00:02, 42.24it/s]\u001b[A\n",
            " 54%|█████▍    | 120/223 [00:02<00:02, 42.23it/s]\u001b[A\n",
            " 56%|█████▌    | 125/223 [00:02<00:02, 42.32it/s]\u001b[A\n",
            " 58%|█████▊    | 130/223 [00:03<00:02, 42.38it/s]\u001b[A\n",
            " 61%|██████    | 135/223 [00:03<00:02, 42.39it/s]\u001b[A\n",
            " 63%|██████▎   | 140/223 [00:03<00:01, 42.50it/s]\u001b[A\n",
            " 65%|██████▌   | 145/223 [00:03<00:01, 42.56it/s]\u001b[A\n",
            " 67%|██████▋   | 150/223 [00:03<00:01, 42.67it/s]\u001b[A\n",
            " 70%|██████▉   | 155/223 [00:03<00:01, 42.69it/s]\u001b[A\n",
            " 72%|███████▏  | 160/223 [00:03<00:01, 42.78it/s]\u001b[A\n",
            " 74%|███████▍  | 165/223 [00:03<00:01, 42.83it/s]\u001b[A\n",
            " 76%|███████▌  | 170/223 [00:03<00:01, 42.83it/s]\u001b[A\n",
            " 78%|███████▊  | 175/223 [00:04<00:01, 42.93it/s]\u001b[A\n",
            " 81%|████████  | 180/223 [00:04<00:00, 43.03it/s]\u001b[A\n",
            " 83%|████████▎ | 185/223 [00:04<00:00, 43.02it/s]\u001b[A\n",
            " 85%|████████▌ | 190/223 [00:04<00:00, 43.07it/s]\u001b[A\n",
            " 87%|████████▋ | 195/223 [00:04<00:00, 43.10it/s]\u001b[A\n",
            " 90%|████████▉ | 200/223 [00:04<00:00, 43.11it/s]\u001b[A\n",
            " 92%|█████████▏| 205/223 [00:04<00:00, 43.14it/s]\u001b[A\n",
            " 94%|█████████▍| 210/223 [00:04<00:00, 43.17it/s]\u001b[A\n",
            " 96%|█████████▋| 215/223 [00:04<00:00, 43.21it/s]\u001b[A\n",
            " 99%|█████████▊| 220/223 [00:05<00:00, 43.28it/s]\u001b[A\n",
            "100%|██████████| 223/223 [00:05<00:00, 43.23it/s]\u001b[A"
          ],
          "name": "stderr"
        }
      ]
    },
    {
      "metadata": {
        "id": "zA-dTHpVa1zk",
        "colab_type": "code",
        "colab": {
          "base_uri": "https://localhost:8080/",
          "height": 285
        },
        "outputId": "7d3515b7-e166-4057-bad5-4952b518f2ec"
      },
      "cell_type": "code",
      "source": [
        "plt.imshow(face_list[10])"
      ],
      "execution_count": 0,
      "outputs": [
        {
          "output_type": "execute_result",
          "data": {
            "text/plain": [
              "<matplotlib.image.AxesImage at 0x7efdc63ab198>"
            ]
          },
          "metadata": {
            "tags": []
          },
          "execution_count": 11
        },
        {
          "output_type": "display_data",
          "data": {
            "image/png": "[encoded data removed]",
            "text/plain": [
              "<matplotlib.figure.Figure at 0x7efdc6c107f0>"
            ]
          },
          "metadata": {
            "tags": []
          }
        }
      ]
    },
    {
      "metadata": {
        "id": "smQVm00o7w0c",
        "colab_type": "code",
        "colab": {}
      },
      "cell_type": "code",
      "source": [
        "face_list = np.float32(face_list)"
      ],
      "execution_count": 0,
      "outputs": []
    },
    {
      "metadata": {
        "id": "7zBexGimDDNd",
        "colab_type": "code",
        "colab": {
          "base_uri": "https://localhost:8080/",
          "height": 496
        },
        "outputId": "bca26d16-db23-4d3a-8eb0-3483c4817d8e"
      },
      "cell_type": "code",
      "source": [
        "compactness = []\n",
        "kvals = np.arange(1,10)\n",
        "for k in tqdm(kvals):\n",
        "    c, _, _ =  cv.kmeans(face_list, k, None, criteria, 10, flags)\n",
        "    compactness.append(c)\n",
        "plt.plot(kvals, compactness, 'o-', linewidth=4,\n",
        "        markersize=12)\n",
        "plt.xlabel('number of clusters')\n",
        "plt.ylabel('compactness')"
      ],
      "execution_count": 17,
      "outputs": [
        {
          "output_type": "stream",
          "text": [
            "\n",
            "  0%|          | 0/9 [00:00<?, ?it/s]\u001b[A\n",
            " 22%|██▏       | 2/9 [00:00<00:00,  7.32it/s]\u001b[A\n",
            " 33%|███▎      | 3/9 [00:00<00:01,  5.17it/s]\u001b[A\n",
            " 44%|████▍     | 4/9 [00:00<00:01,  4.33it/s]\u001b[A\n",
            " 56%|█████▌    | 5/9 [00:01<00:01,  3.51it/s]\u001b[A\n",
            " 67%|██████▋   | 6/9 [00:01<00:00,  3.08it/s]\u001b[A\n",
            " 78%|███████▊  | 7/9 [00:02<00:00,  2.69it/s]\u001b[A\n",
            " 89%|████████▉ | 8/9 [00:03<00:00,  2.41it/s]\u001b[A\n",
            "100%|██████████| 9/9 [00:04<00:00,  2.16it/s]\u001b[A\n",
            "\u001b[A"
          ],
          "name": "stderr"
        },
        {
          "output_type": "execute_result",
          "data": {
            "text/plain": [
              "Text(0,0.5,'compactness')"
            ]
          },
          "metadata": {
            "tags": []
          },
          "execution_count": 17
        },
        {
          "output_type": "display_data",
          "data": {
            "image/png": "[encoded data removed]",
            "text/plain": [
              "<matplotlib.figure.Figure at 0x7f866a5a75c0>"
            ]
          },
          "metadata": {
            "tags": []
          }
        }
      ]
    },
    {
      "metadata": {
        "id": "k4GPLrX5H350",
        "colab_type": "code",
        "colab": {}
      },
      "cell_type": "code",
      "source": [
        "k = 4\n",
        "compactness, clusters, centers = cv.kmeans(face_list, k, None, criteria, 10, flags)\n",
        "make_directory(SAVE_CROPPED_FACE_DIR + \"_cluster_\" + str(k))\n",
        "for i in range(k):\n",
        "    make_directory(SAVE_CROPPED_FACE_DIR + \"_cluster_\" + str(k) + '/' + str(i))"
      ],
      "execution_count": 0,
      "outputs": []
    },
    {
      "metadata": {
        "id": "WF43WBWTjB0-",
        "colab_type": "code",
        "colab": {}
      },
      "cell_type": "code",
      "source": [
        "for f_n, c_k in tqdm(zip(face_files, clusters)):\n",
        "    print(f_n, c_k )\n",
        "    shutil.copy2(SAVE_CROPPED_FACE_DIR + '/' + f_n, SAVE_CROPPED_FACE_DIR + \"_cluster_\" + str(k) + '/' + str(c_k[0]) + '/' + f_n)"
      ],
      "execution_count": 0,
      "outputs": []
    },
    {
      "metadata": {
        "id": "QcTm4q1lixSW",
        "colab_type": "code",
        "colab": {}
      },
      "cell_type": "code",
      "source": [
        "def cluster(face_list):\n",
        "     encodings = face_list\n",
        "\n",
        "     clt = DBSCAN(metric=\"euclidean\")\n",
        "     clt.fit(encodings)\n",
        "\n",
        "     label_ids = np.unique(clt.labels_)\n",
        "     num_unique_faces = len(np.where(label_ids > -1)[0])\n",
        "\n",
        "     for label_id in label_ids:\n",
        "         dir_name = \"drive/ID%d\" % label_id\n",
        "         os.mkdir(dir_name)\n",
        "\n",
        "         indexes = np.where(clt.labels_ == label_id)[0]\n",
        "\n",
        "         for i in  tqdm(indexes):\n",
        "             frame_id = face_list[i].frame_id\n",
        "             box = face_list[i].box\n",
        "             pathname = os.path.join(self.capture_dir,\n",
        "                                     self.capture_filename(frame_id))\n",
        "             image = cv2.imread(pathname)\n",
        "             face_image = self.getFaceImage(image, box)\n",
        "             filename = dir_name + \"-\" + self.capture_filename(frame_id)\n",
        "             pathname = os.path.join(dir_name, filename)\n",
        "             cv2.imwrite(pathname, face_image)"
      ],
      "execution_count": 0,
      "outputs": []
    },
    {
      "metadata": {
        "id": "EFC2jkrGse16",
        "colab_type": "code",
        "colab": {
          "base_uri": "https://localhost:8080/",
          "height": 36
        },
        "outputId": "bca37015-a1b0-4889-cb88-a7b337739afc"
      },
      "cell_type": "code",
      "source": [
        "face_list[0]"
      ],
      "execution_count": 22,
      "outputs": [
        {
          "output_type": "execute_result",
          "data": {
            "text/plain": [
              "array([ -8., -32., -36., ...,  29.,  -1., -48.], dtype=float32)"
            ]
          },
          "metadata": {
            "tags": []
          },
          "execution_count": 22
        }
      ]
    },
    {
      "metadata": {
        "id": "WI8FVySoDJ-X",
        "colab_type": "code",
        "colab": {}
      },
      "cell_type": "code",
      "source": [
        "from sklearn.cluster import DBSCAN\n",
        "clt = DBSCAN(metric=\"euclidean\")\n",
        "clt.fit(face_list)\n",
        "\n",
        "label_ids = np.unique(clt.labels_)\n",
        "num_unique_faces = len(np.where(label_ids > -1)[0])"
      ],
      "execution_count": 0,
      "outputs": []
    },
    {
      "metadata": {
        "id": "7pmSr9qQbUMy",
        "colab_type": "code",
        "colab": {
          "base_uri": "https://localhost:8080/",
          "height": 36
        },
        "outputId": "05ed10c1-45e8-436d-fd4f-359ac5c6c571"
      },
      "cell_type": "code",
      "source": [
        "label_ids"
      ],
      "execution_count": 24,
      "outputs": [
        {
          "output_type": "execute_result",
          "data": {
            "text/plain": [
              "array([-1])"
            ]
          },
          "metadata": {
            "tags": []
          },
          "execution_count": 24
        }
      ]
    },
    {
      "metadata": {
        "id": "z0fME30akCdS",
        "colab_type": "code",
        "colab": {
          "base_uri": "https://localhost:8080/",
          "height": 279
        },
        "outputId": "718ea90e-6c42-4b35-82cc-dfdb4adb081a"
      },
      "cell_type": "code",
      "source": [
        "clt.labels_"
      ],
      "execution_count": 25,
      "outputs": [
        {
          "output_type": "execute_result",
          "data": {
            "text/plain": [
              "array([-1, -1, -1, -1, -1, -1, -1, -1, -1, -1, -1, -1, -1, -1, -1, -1, -1,\n",
              "       -1, -1, -1, -1, -1, -1, -1, -1, -1, -1, -1, -1, -1, -1, -1, -1, -1,\n",
              "       -1, -1, -1, -1, -1, -1, -1, -1, -1, -1, -1, -1, -1, -1, -1, -1, -1,\n",
              "       -1, -1, -1, -1, -1, -1, -1, -1, -1, -1, -1, -1, -1, -1, -1, -1, -1,\n",
              "       -1, -1, -1, -1, -1, -1, -1, -1, -1, -1, -1, -1, -1, -1, -1, -1, -1,\n",
              "       -1, -1, -1, -1, -1, -1, -1, -1, -1, -1, -1, -1, -1, -1, -1, -1, -1,\n",
              "       -1, -1, -1, -1, -1, -1, -1, -1, -1, -1, -1, -1, -1, -1, -1, -1, -1,\n",
              "       -1, -1, -1, -1, -1, -1, -1, -1, -1, -1, -1, -1, -1, -1, -1, -1, -1,\n",
              "       -1, -1, -1, -1, -1, -1, -1, -1, -1, -1, -1, -1, -1, -1, -1, -1, -1,\n",
              "       -1, -1, -1, -1, -1, -1, -1, -1, -1, -1, -1, -1, -1, -1, -1, -1, -1,\n",
              "       -1, -1, -1, -1, -1, -1, -1, -1, -1, -1, -1, -1, -1, -1, -1, -1, -1,\n",
              "       -1, -1, -1, -1, -1, -1, -1, -1, -1, -1, -1, -1, -1, -1, -1, -1, -1,\n",
              "       -1, -1, -1, -1, -1, -1, -1, -1, -1, -1, -1, -1, -1, -1, -1, -1, -1,\n",
              "       -1, -1])"
            ]
          },
          "metadata": {
            "tags": []
          },
          "execution_count": 25
        }
      ]
    },
    {
      "metadata": {
        "id": "RrdTCvwZsoc6",
        "colab_type": "code",
        "colab": {}
      },
      "cell_type": "code",
      "source": [
        ""
      ],
      "execution_count": 0,
      "outputs": []
    }
  ]
}