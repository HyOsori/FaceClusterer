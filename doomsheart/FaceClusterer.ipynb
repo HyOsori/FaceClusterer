{
 "cells": [
  {
   "cell_type": "markdown",
   "metadata": {
    "colab_type": "text",
    "id": "5Zc8cvDNpt_K"
   },
   "source": [
    "Load Video\n",
    "\n",
    "1.   Load from Google Drive in Colab\n",
    "2.   Make directory\n",
    "\n"
   ]
  },
  {
   "cell_type": "code",
   "execution_count": 1,
   "metadata": {
    "colab": {
     "base_uri": "https://localhost:8080/",
     "height": 131
    },
    "colab_type": "code",
    "id": "S-2OTT6_rJiK",
    "outputId": "caac981b-e148-4820-c5fd-689632e3747f"
   },
   "outputs": [],
   "source": [
    "# # Google Colab import files in google drive\n",
    "# !apt-get install -y -qq software-properties-common python-software-properties module-init-tools \n",
    "\n",
    "# !add-apt-repository -y ppa:alessandro-strada/ppa\n",
    "  \n",
    "# !apt-get update -qq\n",
    "\n",
    "# !apt-get -y install -qq google-drive-ocamlfuse fuse \n",
    "\n",
    "# from google.colab import auth\n",
    "# auth.authenticate_user()\n",
    "\n",
    "# from oauth2client.client import GoogleCredentials\n",
    "# creds = GoogleCredentials.get_application_default()\n",
    "\n",
    "# import getpass\n",
    "# !google-drive-ocamlfuse -headless -id={creds.client_id} -secret={creds.client_secret} < /dev/null 2>&1 | grep URL\n",
    "# vcode = getpass.getpass()\n",
    "# !echo {vcode} | google-drive-ocamlfuse -headless -id={creds.client_id} -secret={creds.client_secret}\n",
    "# !mkdir -p drive\n",
    "# !google-drive-ocamlfuse drive\n",
    "import os\n",
    "if not os.path.exists(\"drive\"):\n",
    "    print(\"no drive\")\n",
    "    from google.colab import drive\n",
    "    drive.mount('/content/drive')"
   ]
  },
  {
   "cell_type": "code",
   "execution_count": 2,
   "metadata": {
    "colab": {
     "base_uri": "https://localhost:8080/",
     "height": 36
    },
    "colab_type": "code",
    "id": "EN25qmZkgC0-",
    "outputId": "f634e1f8-0894-4226-eff3-7028e2a86c41"
   },
   "outputs": [
    {
     "name": "stdout",
     "output_type": "stream",
     "text": [
      " C 드라이브의 볼륨에는 이름이 없습니다.\n",
      " 볼륨 일련 번호: C0A1-30B9\n",
      "\n",
      " C:\\Users\\Joonho Wohn\\Documents\\Dev\\FaceClusterer\\doomsheart\\drive\\My Drive\\FaceClusterer 디렉터리\n",
      "\n",
      "2018-11-09  오후 01:44    <DIR>          .\n",
      "2018-11-09  오후 01:44    <DIR>          ..\n",
      "2018-11-09  오후 02:06    <DIR>          res\n",
      "2018-11-09  오후 02:08    <DIR>          result\n",
      "               0개 파일                   0 바이트\n",
      "               4개 디렉터리  73,381,949,440 바이트 남음\n"
     ]
    }
   ],
   "source": [
    "# Check the dirctory\n",
    "!dir \"drive/My Drive/FaceClusterer/\""
   ]
  },
  {
   "cell_type": "code",
   "execution_count": 4,
   "metadata": {
    "colab": {
     "base_uri": "https://localhost:8080/",
     "height": 187
    },
    "colab_type": "code",
    "id": "l0EbfMkai7Y6",
    "outputId": "979f7346-f155-4e6c-cd97-19aff4975376",
    "scrolled": true
   },
   "outputs": [
    {
     "name": "stdout",
     "output_type": "stream",
     "text": [
      "Requirement already satisfied: tqdm in c:\\users\\joonho wohn\\appdata\\local\\programs\\python\\python36\\lib\\site-packages (4.26.0)\n",
      "Requirement already satisfied: dlib in c:\\users\\joonho wohn\\appdata\\local\\programs\\python\\python36\\lib\\site-packages (19.15.0)\n",
      "Requirement already satisfied: opencv-python in c:\\users\\joonho wohn\\appdata\\local\\programs\\python\\python36\\lib\\site-packages (3.4.1)\n",
      "Requirement already satisfied: opencv-contrib-python in c:\\users\\joonho wohn\\appdata\\local\\programs\\python\\python36\\lib\\site-packages (3.4.3.18)\n",
      "Requirement already satisfied: numpy>=1.11.3 in c:\\users\\joonho wohn\\appdata\\local\\programs\\python\\python36\\lib\\site-packages (from opencv-contrib-python) (1.15.2+mkl)\n",
      "Requirement already up-to-date: imutils in c:\\users\\joonho wohn\\appdata\\local\\programs\\python\\python36\\lib\\site-packages (0.5.1)\n",
      "Requirement already satisfied: cmake in c:\\users\\joonho wohn\\appdata\\local\\programs\\python\\python36\\lib\\site-packages (3.12.0)\n",
      "Requirement already satisfied: dlib in c:\\users\\joonho wohn\\appdata\\local\\programs\\python\\python36\\lib\\site-packages (19.15.0)\n",
      "Requirement already satisfied: scipy in c:\\users\\joonho wohn\\appdata\\local\\programs\\python\\python36\\lib\\site-packages (1.1.0)\n",
      "Requirement already satisfied: scikit-learn in c:\\users\\joonho wohn\\appdata\\local\\programs\\python\\python36\\lib\\site-packages (0.20.1)\n",
      "Requirement already satisfied: numpy>=1.8.2 in c:\\users\\joonho wohn\\appdata\\local\\programs\\python\\python36\\lib\\site-packages (from scipy) (1.15.2+mkl)\n"
     ]
    }
   ],
   "source": [
    "!pip install tqdm\n",
    "!pip install dlib\n",
    "!pip install opencv-python\n",
    "!pip install opencv-contrib-python\n",
    "!pip install --upgrade imutils\n",
    "!pip install cmake\n",
    "!pip install dlib\n",
    "!pip install scipy scikit-learn \n",
    "\n",
    "from tqdm import tqdm\n",
    "import cv2 as cv\n",
    "import numpy as np\n",
    "import os\n",
    "import datetime\n",
    "import dlib\n",
    "from matplotlib import pyplot as plt\n",
    "%matplotlib inline\n",
    "import shutil\n",
    "\n",
    "BASE_DIR = 'drive/My Drive/FaceClusterer/'\n",
    "RES_DIR = 'drive/My Drive/FaceClusterer/res/'\n",
    "\n",
    "VIDEO_DIR = RES_DIR + 'vid/'\n",
    "RESULT_DIR = 'drive/My Drive/FaceClusterer/result/'\n",
    "# for unique\n",
    "# PROGRAM_START_TIME = datetime.datetime.now().strftime('%Y%m%d_%H-%M-%S')\n",
    "# PROGRAM_START_TIME = datetime.datetime.now().strftime('%Y%m%d')\n",
    "PROGRAM_START_TIME = '20180827'\n",
    "\n",
    "\n",
    "def make_directory(_directory_name):\n",
    "    if not os.path.exists(_directory_name):\n",
    "        os.makedirs(_directory_name)\n",
    "        \n",
    "def get_area_of_frame_face_recognition(img, face_cascade):\n",
    "    grayed_img = cv.cvtColor(img, cv.COLOR_BGR2GRAY)\n",
    "    # def detectMultiScale(self, image, scaleFactor=None, minNeighbors=None, flags=None, minSize=None, maxSize=None)\n",
    "    face_area = face_cascade.detectMultiScale(image=grayed_img,scaleFactor=1.3,minNeighbors=5)\n",
    "    return face_area\n",
    "  \n",
    "def get_frame(video_capture, frame):\n",
    "    video_capture.set(cv.CAP_PROP_POS_FRAMES, frame)\n",
    "    ret, img = video_capture.read()\n",
    "    return img, frame, ret\n",
    "\n",
    "def save_cropped_img(img, faces, frame):\n",
    "    i = 0\n",
    "    if len(faces) != 0:\n",
    "        for (x, y, w, h) in faces:\n",
    "            iter = 0.2         \n",
    "            while True:\n",
    "                try:\n",
    "                    face_img = img[int(y - h * iter): int(y + (1 + iter) * h),\n",
    "                                   int(x - w * iter): int(x + (1 + iter) * w)]\n",
    "                    if int(y - h * iter) < 0 or int(x - w * iter) < 0:\n",
    "                        raise ValueError('range is false')\n",
    "                    break\n",
    "                except:\n",
    "                    iter = iter * 0.8\n",
    "                  #             cv.imwrite(SAVE_CROPPED_FACE_DIR + \"/\" + str(frame) + \"_\" + str(i) + \".jpg\", img[y:y + h, x: x + w])\n",
    "            try:\n",
    "                cv.imwrite(SAVE_CROPPED_FACE_DIR + \"/\" + str(frame) + \"_\" + str(i) + \".jpg\", cv.resize(face_img, (96, 96), interpolation=cv.INTER_AREA))\n",
    "            except:\n",
    "                print(int(y - h * iter))\n",
    "                print(int(x - w * iter))\n",
    "            i += 1\n",
    "            \n",
    "            \n",
    "# this function show image and quit when press q or end\n",
    "def show_img(img, faces):\n",
    "    if len(faces) != 0:\n",
    "        for (x, y, w, h) in faces:\n",
    "            cv.rectangle(img, (x, y), (x + w, y + h), (255, 0, 0), 1)\n",
    "    cv.imshow('hello', img)\n",
    "    if cv.waitKey(1) & 0xFF == ord('q'):\n",
    "        return False\n",
    "    else:\n",
    "        return True\n",
    "      \n",
    "def ORB():\n",
    "    img = cv.imread(SAVE_CROPPED_FACE_DIR + '/130_0.jpg')\n",
    "    imgray = cv.cvtColor(img, cv.COLOR_BGR2GRAY)\n",
    "    img2 = None\n",
    "    orb = cv.ORB_create()\n",
    "    kp, des = orb.detectAndCompute(img, None)\n",
    "#     img2 = cv.drawKeypoints(img, kp, img2, (0, 0, 255), flags=0)\n",
    "#     plt.imshow(img2)\n",
    "    return kp, des \n",
    "\n",
    "def HarrisCorner():\n",
    "    img = cv.imread(SAVE_CROPPED_FACE_DIR + '/130_0.jpg')\n",
    "    img_gray = cv.cvtColor(img, cv.COLOR_BGR2GRAY)\n",
    "    corners = cv.cornerHarris(img_gray, 2, 3, 0.04)\n",
    "#     plt.figure(figsize=(6, 6))\n",
    "#     plt.imshow(corners, cmap='gray')\n",
    "    return coners\n",
    "\n",
    "\n"
   ]
  },
  {
   "cell_type": "code",
   "execution_count": 5,
   "metadata": {},
   "outputs": [
    {
     "name": "stdout",
     "output_type": "stream",
     "text": [
      "Directory is not empty\n",
      "Already extracted in 20181108\n"
     ]
    }
   ],
   "source": [
    "VIDEO_FILE_NAME = 'PowerUp.mp4'\n",
    "SAVE_CROPPED_FACE_DIR = RESULT_DIR + 'Cropped_imgs/' + PROGRAM_START_TIME + '-' + VIDEO_FILE_NAME.split('.')[0]\n",
    "make_directory(SAVE_CROPPED_FACE_DIR)\n",
    "\n",
    "\n",
    "m_video_capture = cv.VideoCapture(VIDEO_DIR + VIDEO_FILE_NAME)\n",
    "\n",
    "CASCADE_DIR = RES_DIR + 'lbpcascade_frontalface_improved.xml'\n",
    "m_face_cascade = cv.CascadeClassifier(CASCADE_DIR)\n",
    "\n",
    "TOTAL_FRAME = m_video_capture.get(cv.CAP_PROP_FRAME_COUNT)\n",
    "PROGRAM_START_TIME = '20181108'\n",
    "predictor_path = RES_DIR + \"shape_predictor_68_face_landmarks.dat\"\n",
    "detector = dlib.get_frontal_face_detector()\n",
    "sp = dlib.shape_predictor(predictor_path)\n",
    "# Create a HOG face detector using the built-in dlib class\n",
    "face_detector = dlib.get_frontal_face_detector()\n",
    "def dlib_face_chip(img, frame_num):\n",
    "    dets = detector(img, 1)\n",
    "    if len(dets) == 0:\n",
    "        return;\n",
    "    faces = dlib.full_object_detections()\n",
    "    for detection in dets:\n",
    "        faces.append(sp(img, detection))\n",
    "    images = dlib.get_face_chips(img, faces, size=320)\n",
    "    window = dlib.image_window()\n",
    "    for image in images:\n",
    "        window.set_image(image)\n",
    "    im_list = []\n",
    "    for face in faces:\n",
    "        im_list.append(dlib.get_face_chip(img, face))\n",
    "    if len(im_list) != 0:\n",
    "        for i_, face_ in enumerate(im_list):\n",
    "            try:\n",
    "                cv.imwrite(SAVE_CROPPED_FACE_DIR + \"/\" + str(frame_num) + \"_\" + str(i_) + \".jpg\", cv.resize(face_, (96, 96), interpolation=cv.INTER_AREA))\n",
    "            except:\n",
    "                print(\"cannot save : \" + str(frame_num))\n",
    "                print(face_)\n",
    "                plt.imshow(face_)\n",
    "    \n",
    "SAVE_CROPPED_FACE_DIR = RESULT_DIR + 'Cropped_imgs/' + PROGRAM_START_TIME + '-' + VIDEO_FILE_NAME.split('.')[0]\n",
    "make_directory(SAVE_CROPPED_FACE_DIR)\n",
    "\n",
    "VIDEO_FILE_NAME = 'PowerUp.mp4'\n",
    "m_video_capture = cv.VideoCapture(VIDEO_DIR + VIDEO_FILE_NAME)\n",
    "\n",
    "CASCADE_DIR = RES_DIR + 'lbpcascade_frontalface_improved.xml'\n",
    "m_face_cascade = cv.CascadeClassifier(CASCADE_DIR)\n",
    "\n",
    "TOTAL_FRAME = m_video_capture.get(cv.CAP_PROP_FRAME_COUNT)\n",
    "FRAME_STEP = 10\n",
    "LOAD_FAIL = []\n",
    "if len(os.listdir(SAVE_CROPPED_FACE_DIR)) == 0:\n",
    "    for frame in tqdm(range(0, int(TOTAL_FRAME), FRAME_STEP)):\n",
    "        img, frame, ret = get_frame(video_capture=m_video_capture, frame=frame)\n",
    "        if not ret:\n",
    "            LOAD_FAIL.append(frame)\n",
    "            continue\n",
    "        faces_area = dlib_face_chip(img, frame)\n",
    "    if len(LOAD_FAIL) > 0:\n",
    "        print(\"Fail to load %d of frame(s)\" % len(LOAD_FAIL))\n",
    "        print(LOAD_FAIL)\n",
    "else:    \n",
    "    print(\"Directory is not empty\")\n",
    "    print(\"Already extracted in %s\" % PROGRAM_START_TIME)"
   ]
  },
  {
   "cell_type": "code",
   "execution_count": 18,
   "metadata": {
    "colab": {},
    "colab_type": "code",
    "id": "Zocy06TCgC2E"
   },
   "outputs": [
    {
     "name": "stderr",
     "output_type": "stream",
     "text": [
      "100%|████████████████████████████████████████████████████████████████████████████████████████████████████████████████████████████████████████████████████████████████████████████| 981/981 [00:01<00:00, 747.65it/s]\n"
     ]
    }
   ],
   "source": [
    "face_list = []\n",
    "face_files = os.listdir(SAVE_CROPPED_FACE_DIR)\n",
    "for face_file_name in tqdm(face_files):\n",
    "    img = cv.imread(SAVE_CROPPED_FACE_DIR + '/' + face_file_name)\n",
    "#     img_gray = cv.cvtColor(img, cv.COLOR_BGR2GRAY)\n",
    "#     img_blur = cv.GaussianBlur(img_gray, (3,3), 0)\n",
    "#     img_sharp = cv.Laplacian(img_blur, cv.CV_64F)\n",
    "#     corners = cv.cornerHarris(img_gray, 2, 3, 0.04)\n",
    "#     face_list.append(img_gray)\n",
    "#     face_list.append(img_sharp.flatten())\n",
    "#     rgb_img = cv.cvtColor(img, cv.COLOR_BGR2RGB)\n",
    "    face_list.append(img)"
   ]
  },
  {
   "cell_type": "code",
   "execution_count": 33,
   "metadata": {},
   "outputs": [],
   "source": [
    "def cluster(face_list, face_files):\n",
    "    fl2grayflatten = [(cv.cvtColor(img, cv.COLOR_BGR2GRAY)).flatten() for img in face_list]\n",
    "    encodings = fl2grayflatten\n",
    "    clt = DBSCAN(metric=\"euclidean\")\n",
    "    clt.fit(encodings)\n",
    "\n",
    "    label_ids = np.unique(clt.labels_)\n",
    "    num_unique_faces = len(np.where(label_ids > -1)[0])\n",
    "    print(num_unique_faces)\n",
    "#     for label_id in label_ids:\n",
    "#         dir_name = \"drive/ID%d\" % label_id\n",
    "#         os.mkdir(dir_name)\n",
    "\n",
    "#         indexes = np.where(clt.labels_ == label_id)[0]\n",
    "\n",
    "#         for i in  tqdm(indexes):\n",
    "#             cv.imwrite(dir_name + \"/\" + str(face_files[i])+ \".jpg\", face_list[i])"
   ]
  },
  {
   "cell_type": "code",
   "execution_count": 34,
   "metadata": {
    "colab": {},
    "colab_type": "code",
    "id": "P_xZotWggC5s"
   },
   "outputs": [
    {
     "name": "stdout",
     "output_type": "stream",
     "text": [
      "0\n"
     ]
    }
   ],
   "source": [
    "from sklearn.cluster import DBSCAN\n",
    "cluster(face_list, face_files)"
   ]
  }
 ],
 "metadata": {
  "colab": {
   "collapsed_sections": [],
   "name": "FaceClustering.ipynb",
   "provenance": [],
   "version": "0.3.2"
  },
  "kernelspec": {
   "display_name": "Python 3",
   "language": "python",
   "name": "python3"
  },
  "language_info": {
   "codemirror_mode": {
    "name": "ipython",
    "version": 3
   },
   "file_extension": ".py",
   "mimetype": "text/x-python",
   "name": "python",
   "nbconvert_exporter": "python",
   "pygments_lexer": "ipython3",
   "version": "3.6.2"
  }
 },
 "nbformat": 4,
 "nbformat_minor": 1
}
