{
 "cells": [
  {
   "cell_type": "markdown",
   "metadata": {
    "colab_type": "text",
    "id": "5Zc8cvDNpt_K"
   },
   "source": [
    "Load Video\n",
    "\n",
    "1.   Load from Google Drive in Colab\n",
    "2.   Make directory\n",
    "\n"
   ]
  },
  {
   "cell_type": "code",
   "execution_count": null,
   "metadata": {
    "colab": {},
    "colab_type": "code",
    "id": "S-2OTT6_rJiK"
   },
   "outputs": [],
   "source": [
    "# # Google Colab import files in google drive\n",
    "# !apt-get install -y -qq software-properties-common python-software-properties module-init-tools \n",
    "\n",
    "# !add-apt-repository -y ppa:alessandro-strada/ppa\n",
    "  \n",
    "# !apt-get update -qq\n",
    "\n",
    "# !apt-get -y install -qq google-drive-ocamlfuse fuse \n",
    "\n",
    "# from google.colab import auth\n",
    "# auth.authenticate_user()\n",
    "\n",
    "# from oauth2client.client import GoogleCredentials\n",
    "# creds = GoogleCredentials.get_application_default()\n",
    "\n",
    "# import getpass\n",
    "# !google-drive-ocamlfuse -headless -id={creds.client_id} -secret={creds.client_secret} < /dev/null 2>&1 | grep URL\n",
    "# vcode = getpass.getpass()\n",
    "# !echo {vcode} | google-drive-ocamlfuse -headless -id={creds.client_id} -secret={creds.client_secret}\n",
    "# !mkdir -p drive\n",
    "# !google-drive-ocamlfuse drive\n",
    "from google.colab import drive\n",
    "drive.mount('/content/drive')"
   ]
  },
  {
   "cell_type": "code",
   "execution_count": 1,
   "metadata": {},
   "outputs": [
    {
     "name": "stdout",
     "output_type": "stream",
     "text": [
      " C 드라이브의 볼륨에는 이름이 없습니다.\n",
      " 볼륨 일련 번호: C0A1-30B9\n",
      "\n",
      " C:\\Users\\Joonho Wohn\\Documents\\Dev\\FaceClusterer\\doomsheart\\drive\\My Drive\\FaceClustering 디렉터리\n",
      "\n",
      "2018-10-01  오후 03:43    <DIR>          .\n",
      "2018-10-01  오후 03:43    <DIR>          ..\n",
      "2018-10-01  오후 06:32    <DIR>          res\n",
      "2018-10-01  오후 03:48    <DIR>          result\n",
      "               0개 파일                   0 바이트\n",
      "               4개 디렉터리  101,902,290,944 바이트 남음\n"
     ]
    }
   ],
   "source": [
    "!dir \"drive/My Drive/FaceClustering/\""
   ]
  },
  {
   "cell_type": "code",
   "execution_count": 2,
   "metadata": {
    "colab": {
     "base_uri": "https://localhost:8080/",
     "height": 36
    },
    "colab_type": "code",
    "id": "l0EbfMkai7Y6",
    "outputId": "987119e7-424c-406e-b8c9-aff94131a374"
   },
   "outputs": [
    {
     "name": "stdout",
     "output_type": "stream",
     "text": [
      "Requirement already satisfied: tqdm in c:\\users\\joonho wohn\\appdata\\local\\programs\\python\\python36\\lib\\site-packages (4.26.0)\n",
      "Requirement already satisfied: dlib in c:\\users\\joonho wohn\\appdata\\local\\programs\\python\\python36\\lib\\site-packages (19.15.0)\n",
      "Requirement already satisfied: opencv-python in c:\\users\\joonho wohn\\appdata\\local\\programs\\python\\python36\\lib\\site-packages (3.4.1)\n",
      "Requirement already satisfied: opencv-contrib-python in c:\\users\\joonho wohn\\appdata\\local\\programs\\python\\python36\\lib\\site-packages (3.4.3.18)\n",
      "Requirement already satisfied: numpy>=1.11.3 in c:\\users\\joonho wohn\\appdata\\local\\programs\\python\\python36\\lib\\site-packages (from opencv-contrib-python) (1.15.2+mkl)\n",
      "Requirement already up-to-date: imutils in c:\\users\\joonho wohn\\appdata\\local\\programs\\python\\python36\\lib\\site-packages (0.5.1)\n",
      "Requirement already satisfied: cmake in c:\\users\\joonho wohn\\appdata\\local\\programs\\python\\python36\\lib\\site-packages (3.12.0)\n",
      "Requirement already satisfied: dlib in c:\\users\\joonho wohn\\appdata\\local\\programs\\python\\python36\\lib\\site-packages (19.15.0)\n"
     ]
    }
   ],
   "source": [
    "!pip install tqdm\n",
    "!pip install dlib\n",
    "!pip install opencv-python\n",
    "!pip install opencv-contrib-python\n",
    "!pip install --upgrade imutils\n",
    "!pip install cmake\n",
    "!pip install dlib\n",
    "\n",
    "from tqdm import tqdm\n",
    "import cv2 as cv\n",
    "import numpy as np\n",
    "import os\n",
    "import datetime\n",
    "from matplotlib import pyplot as plt\n",
    "%matplotlib inline\n",
    "import shutil\n",
    "\n",
    "VIDEO_DIR = 'drive/My Drive/FaceClustering/Video/'\n",
    "VIDEO_FILE_NAME = 'PowerUp.mp4'\n",
    "# PROGRAM_START_TIME = datetime.datetime.now().strftime('%Y%m%d_%H-%M-%S')\n",
    "# PROGRAM_START_TIME = datetime.datetime.now().strftime('%Y%m%d')\n",
    "PROGRAM_START_TIME = '20180827'\n",
    "SAVE_CROPPED_FACE_DIR = 'drive/My Drive/FaceClustering/result/Cropped_imgs/' + PROGRAM_START_TIME + '-' + VIDEO_FILE_NAME.split('.')[0]\n",
    "RES_DIR = 'drive/My Drive/FaceClustering/res/'\n",
    "CASCADE_DIR = 'drive/My Drive/FaceClustering/res/lbpcascade_frontalface_improved.xml'\n",
    "\n",
    "criteria = (cv.TERM_CRITERIA_EPS + cv.TERM_CRITERIA_MAX_ITER, 10, 1.0)\n",
    "flags = cv.KMEANS_RANDOM_CENTERS\n",
    "\n",
    "def make_directory(_directory_name):\n",
    "    if not os.path.exists(_directory_name):\n",
    "        os.makedirs(_directory_name)\n",
    "        \n",
    "def get_area_of_frame_face_recognition(img, face_cascade):\n",
    "    grayed_img = cv.cvtColor(img, cv.COLOR_BGR2GRAY)\n",
    "    # def detectMultiScale(self, image, scaleFactor=None, minNeighbors=None, flags=None, minSize=None, maxSize=None)\n",
    "    face_area = face_cascade.detectMultiScale(image=grayed_img,scaleFactor=1.3,minNeighbors=5)\n",
    "    return face_area\n",
    "  \n",
    "def get_frame(video_capture, frame):\n",
    "    video_capture.set(cv.CAP_PROP_POS_FRAMES, frame)\n",
    "    ret, img = video_capture.read()\n",
    "    return img, frame, ret\n",
    "\n",
    "def save_cropped_img(img, faces, frame):\n",
    "    i = 0\n",
    "    if len(faces) != 0:\n",
    "        for (x, y, w, h) in faces:\n",
    "            iter = 0.2         \n",
    "            while True:\n",
    "                try:\n",
    "                    face_img = img[int(y - h * iter): int(y + (1 + iter) * h),\n",
    "                                   int(x - w * iter): int(x + (1 + iter) * w)]\n",
    "                    if int(y - h * iter) < 0 or int(x - w * iter) < 0:\n",
    "                        raise ValueError('range is false')\n",
    "                    break\n",
    "                except:\n",
    "                    iter = iter * 0.8\n",
    "                  #             cv.imwrite(SAVE_CROPPED_FACE_DIR + \"/\" + str(frame) + \"_\" + str(i) + \".jpg\", img[y:y + h, x: x + w])\n",
    "            try:\n",
    "                cv.imwrite(SAVE_CROPPED_FACE_DIR + \"/\" + str(frame) + \"_\" + str(i) + \".jpg\", cv.resize(face_img, (96, 96), interpolation=cv.INTER_AREA))\n",
    "            except:\n",
    "                print(int(y - h * iter))\n",
    "                print(int(x - w * iter))\n",
    "            i += 1\n",
    "\n",
    "# this function show image and quit when press q or end\n",
    "def show_img(img, faces):\n",
    "    if len(faces) != 0:\n",
    "        for (x, y, w, h) in faces:\n",
    "            cv.rectangle(img, (x, y), (x + w, y + h), (255, 0, 0), 1)\n",
    "    cv.imshow('hello', img)\n",
    "    if cv.waitKey(1) & 0xFF == ord('q'):\n",
    "        return False\n",
    "    else:\n",
    "        return True\n",
    "      \n",
    "def ORB():\n",
    "    img = cv.imread(SAVE_CROPPED_FACE_DIR + '/130_0.jpg')\n",
    "    imgray = cv.cvtColor(img, cv.COLOR_BGR2GRAY)\n",
    "    img2 = None\n",
    "    orb = cv.ORB_create()\n",
    "    kp, des = orb.detectAndCompute(img, None)\n",
    "#     img2 = cv.drawKeypoints(img, kp, img2, (0, 0, 255), flags=0)\n",
    "#     plt.imshow(img2)\n",
    "    return kp, des \n",
    "\n",
    "def HarrisCorner():\n",
    "    img = cv.imread(SAVE_CROPPED_FACE_DIR + '/130_0.jpg')\n",
    "    img_gray = cv.cvtColor(img, cv.COLOR_BGR2GRAY)\n",
    "    corners = cv.cornerHarris(img_gray, 2, 3, 0.04)\n",
    "#     plt.figure(figsize=(6, 6))\n",
    "#     plt.imshow(corners, cmap='gray')\n",
    "    return coners"
   ]
  },
  {
   "cell_type": "code",
   "execution_count": 3,
   "metadata": {
    "colab": {
     "base_uri": "https://localhost:8080/",
     "height": 36
    },
    "colab_type": "code",
    "id": "F90yiqWvrcMq",
    "outputId": "aff2faa9-c908-4cb4-c9d6-c4e8e144dbee"
   },
   "outputs": [
    {
     "name": "stdout",
     "output_type": "stream",
     "text": [
      "Directory is not empty\n",
      "Already extracted in 20180827\n"
     ]
    }
   ],
   "source": [
    "make_directory(SAVE_CROPPED_FACE_DIR)\n",
    "m_video_capture = cv.VideoCapture(VIDEO_DIR + VIDEO_FILE_NAME)\n",
    "m_face_cascade = cv.CascadeClassifier(CASCADE_DIR)\n",
    "TOTAL_FRAME = m_video_capture.get(cv.CAP_PROP_FRAME_COUNT)\n",
    "FRAME_STEP = 10\n",
    "LOAD_FAIL = []\n",
    "if len(os.listdir(SAVE_CROPPED_FACE_DIR)) == 0:\n",
    "    for frame in tqdm(range(0, int(TOTAL_FRAME), FRAME_STEP)):\n",
    "        img, frame, ret = get_frame(video_capture=m_video_capture, frame=frame)\n",
    "        if not ret:\n",
    "            LOAD_FAIL.append(frame)\n",
    "            continue\n",
    "        faces_area = get_area_of_frame_face_recognition(img=img, face_cascade=m_face_cascade)\n",
    "        save_cropped_img(img, faces_area, frame)\n",
    "    if len(LOAD_FAIL) > 0:\n",
    "        print(\"Fail to load %d of frame(s)\" % len(LOAD_FAIL))\n",
    "        print(LOAD_FAIL)\n",
    "else:    \n",
    "    print(\"Directory is not empty\")\n",
    "    print(\"Already extracted in %s\" % PROGRAM_START_TIME)"
   ]
  },
  {
   "cell_type": "code",
   "execution_count": null,
   "metadata": {
    "colab": {
     "base_uri": "https://localhost:8080/",
     "height": 36
    },
    "colab_type": "code",
    "id": "E0IsjxmvNBox",
    "outputId": "8db56bd2-ee86-4ab2-9b04-2b14c87e986c"
   },
   "outputs": [],
   "source": [
    "SAVE_CROPPED_FACE_DIR"
   ]
  },
  {
   "cell_type": "code",
   "execution_count": null,
   "metadata": {
    "colab": {
     "base_uri": "https://localhost:8080/",
     "height": 747
    },
    "colab_type": "code",
    "id": "EKgu64MqM64S",
    "outputId": "d6c7835c-7499-4b5b-d90d-9e644c59d89a",
    "scrolled": true
   },
   "outputs": [],
   "source": [
    "!dir \"drive/My Drive/FaceClustering/Cropped_imgs/20180827-PowerUp/\""
   ]
  },
  {
   "cell_type": "code",
   "execution_count": 4,
   "metadata": {},
   "outputs": [],
   "source": [
    "face_list = []\n",
    "face_files = os.listdir(SAVE_CROPPED_FACE_DIR)"
   ]
  },
  {
   "cell_type": "code",
   "execution_count": 5,
   "metadata": {
    "colab": {
     "base_uri": "https://localhost:8080/",
     "height": 913
    },
    "colab_type": "code",
    "id": "-IVzAeFDynS-",
    "outputId": "311f702f-2a34-4b4b-e76e-d2683a0d8f46"
   },
   "outputs": [
    {
     "name": "stderr",
     "output_type": "stream",
     "text": [
      "100%|███████████████████████████████████████████████████████████████████████████████| 223/223 [00:00<00:00, 588.92it/s]\n"
     ]
    }
   ],
   "source": [
    "for face_file_name in tqdm(face_files):\n",
    "    img = cv.imread(SAVE_CROPPED_FACE_DIR + '/' + face_file_name)\n",
    "#     img_gray = cv.cvtColor(img, cv.COLOR_BGR2GRAY)\n",
    "#     img_blur = cv.GaussianBlur(img_gray, (3,3), 0)\n",
    "#     img_sharp = cv.Laplacian(img_blur, cv.CV_64F)\n",
    "#     corners = cv.cornerHarris(img_gray, 2, 3, 0.04)\n",
    "#     face_list.append(img_gray)\n",
    "#     face_list.append(img_sharp.flatten())\n",
    "    rgb_img = cv.cvtColor(img, cv.COLOR_BGR2RGB)\n",
    "    face_list.append(rgb_img)"
   ]
  },
  {
   "cell_type": "code",
   "execution_count": null,
   "metadata": {},
   "outputs": [],
   "source": [
    "plt.imshow(face_list[5])"
   ]
  },
  {
   "cell_type": "code",
   "execution_count": null,
   "metadata": {},
   "outputs": [],
   "source": [
    "import cv2\n",
    "import numpy as np\n",
    "\n",
    "# Read Image\n",
    "im = face_list[5]\n",
    "size = im.shape\n",
    "\n",
    "#2D image points. If you change the image, you need to change vector\n",
    "image_points = np.array([\n",
    "                            (359, 391),     # Nose tip\n",
    "                            (399, 561),     # Chin\n",
    "                            (337, 297),     # Left eye left corner\n",
    "                            (513, 301),     # Right eye right corne\n",
    "                            (345, 465),     # Left Mouth corner\n",
    "                            (453, 469)      # Right mouth corner\n",
    "                        ], dtype=\"double\")\n",
    " \n",
    "# 3D model points.\n",
    "model_points = np.array([\n",
    "                            (0.0, 0.0, 0.0),             # Nose tip\n",
    "                            (0.0, -330.0, -65.0),        # Chin\n",
    "                            (-225.0, 170.0, -135.0),     # Left eye left corner\n",
    "                            (225.0, 170.0, -135.0),      # Right eye right corne\n",
    "                            (-150.0, -150.0, -125.0),    # Left Mouth corner\n",
    "                            (150.0, -150.0, -125.0)      # Right mouth corner\n",
    "                         \n",
    "                        ])\n",
    "\n",
    "# Camera internals\n",
    " \n",
    "focal_length = size[1]\n",
    "center = (size[1]/2, size[0]/2)\n",
    "camera_matrix = np.array(\n",
    "                         [[focal_length, 0, center[0]],\n",
    "                         [0, focal_length, center[1]],\n",
    "                         [0, 0, 1]], dtype = \"double\"\n",
    "                         )\n",
    " \n",
    "print(\"Camera Matrix :\\n {0}\".format(camera_matrix))\n",
    " \n",
    "dist_coeffs = np.zeros((4,1)) # Assuming no lens distortion\n",
    "(success, rotation_vector, translation_vector) = cv2.solvePnP(model_points, image_points, camera_matrix, dist_coeffs, flags=cv2.CV_ITERATIVE)\n",
    " \n",
    "print (\"Rotation Vector:\\n {0}\".format(rotation_vector))\n",
    "print (\"Translation Vector:\\n {0}\".format(translation_vector))\n",
    "\n",
    "(nose_end_point2D, jacobian) = cv2.projectPoints(np.array([(0.0, 0.0, 1000.0)]), rotation_vector, translation_vector, camera_matrix, dist_coeffs)\n",
    "print(image_points)\n",
    "for p in image_points:\n",
    "    cv2.circle(im, (int(p[0]), int(p[1])), 30, (0,255,255), -1)\n",
    " \n",
    " \n",
    "p1 = ( int(image_points[0][0]), int(image_points[0][1]))\n",
    "p2 = ( int(nose_end_point2D[0][0][0]), int(nose_end_point2D[0][0][1]))\n",
    " \n",
    "cv2.line(im, p1, p2, (255,0,0), 2)\n",
    " \n",
    "# Display image\n",
    "print(p1)\n",
    "print(p2)\n",
    "plt.imshow(im)"
   ]
  },
  {
   "cell_type": "code",
   "execution_count": null,
   "metadata": {},
   "outputs": [],
   "source": [
    "# import the necessary packages\n",
    "from imutils.video import VideoStream\n",
    "from imutils import face_utils\n",
    "import argparse\n",
    "import imutils\n",
    "import time\n",
    "import dlib\n",
    "import cv2\n",
    "# construct the argument parser and parse the arguments\n",
    "ap = argparse.ArgumentParser()\n",
    "ap.add_argument(\"-p\", \"--shape-predictor\", required=True,\n",
    "\thelp=\"path to facial landmark predictor\")\n",
    "args = vars(ap.parse_args())\n",
    "# initialize dlib's face detector (HOG-based) and then create the\n",
    "# facial landmark predictor\n",
    "print(\"[INFO] loading facial landmark predictor...\")\n",
    "detector = dlib.get_frontal_face_detector()\n",
    "predictor = dlib.shape_predictor(args[\"shape_predictor\"])\n",
    " \n",
    "# initialize the video stream and sleep for a bit, allowing the\n",
    "# camera sensor to warm up\n",
    "print(\"[INFO] camera sensor warming up...\")\n",
    "vs = VideoStream(src=1).start()\n",
    "# vs = VideoStream(usePiCamera=True).start() # Raspberry Pi\n",
    "time.sleep(2.0)\n",
    "# loop over the frames from the video stream\n",
    "while True:\n",
    "\t# grab the frame from the threaded video stream, resize it to\n",
    "\t# have a maximum width of 400 pixels, and convert it to\n",
    "\t# grayscale\n",
    "\tframe = vs.read()\n",
    "\tframe = imutils.resize(frame, width=400)\n",
    "\tgray = cv2.cvtColor(frame, cv2.COLOR_BGR2GRAY)\n",
    " \n",
    "\t# detect faces in the grayscale frame\n",
    "\trects = detector(gray, 0)\n",
    " \n",
    "\t# check to see if a face was detected, and if so, draw the total\n",
    "\t# number of faces on the frame\n",
    "\tif len(rects) > 0:\n",
    "\t\ttext = \"{} face(s) found\".format(len(rects))\n",
    "\t\tcv2.putText(frame, text, (10, 20), cv2.FONT_HERSHEY_SIMPLEX,\n",
    "\t\t\t0.5, (0, 0, 255), 2)\n",
    "        \t# loop over the face detections\n",
    "\tfor rect in rects:\n",
    "\t\t# compute the bounding box of the face and draw it on the\n",
    "\t\t# frame\n",
    "\t\t(bX, bY, bW, bH) = face_utils.rect_to_bb(rect)\n",
    "\t\tcv2.rectangle(frame, (bX, bY), (bX + bW, bY + bH),\n",
    "\t\t\t(0, 255, 0), 1)\n",
    " \n",
    "\t\t# determine the facial landmarks for the face region, then\n",
    "\t\t# convert the facial landmark (x, y)-coordinates to a NumPy\n",
    "\t\t# array\n",
    "\t\tshape = predictor(gray, rect)\n",
    "\t\tshape = face_utils.shape_to_np(shape)\n",
    " \n",
    "\t\t# loop over the (x, y)-coordinates for the facial landmarks\n",
    "\t\t# and draw each of them\n",
    "\t\tfor (i, (x, y)) in enumerate(shape):\n",
    "\t\t\tcv2.circle(frame, (x, y), 1, (0, 0, 255), -1)\n",
    "\t\t\tcv2.putText(frame, str(i + 1), (x - 10, y - 10),\n",
    "\t\t\t\tcv2.FONT_HERSHEY_SIMPLEX, 0.35, (0, 0, 255), 1)\n",
    "            \t# show the frame\n",
    "\tcv2.imshow(\"Frame\", frame)\n",
    "\tkey = cv2.waitKey(1) & 0xFF\n",
    " \n",
    "\t# if the `q` key was pressed, break from the loop\n",
    "\tif key == ord(\"q\"):\n",
    "\t\tbreak\n",
    " \n",
    "# do a bit of cleanup\n",
    "cv2.destroyAllWindows()\n",
    "vs.stop()"
   ]
  },
  {
   "cell_type": "code",
   "execution_count": null,
   "metadata": {
    "colab": {
     "base_uri": "https://localhost:8080/",
     "height": 285
    },
    "colab_type": "code",
    "id": "zA-dTHpVa1zk",
    "outputId": "7d3515b7-e166-4057-bad5-4952b518f2ec"
   },
   "outputs": [],
   "source": [
    "plt.imshow(face_list[10])"
   ]
  },
  {
   "cell_type": "code",
   "execution_count": null,
   "metadata": {},
   "outputs": [],
   "source": [
    "rotation = cv.getRotationMatrix2D((40, 40), 5, 1) # 1은 확대/축소값입니다.\n",
    "result = cv.warpAffine(face_list[10], rotation, (face_list[10].shape[:2]))"
   ]
  },
  {
   "cell_type": "code",
   "execution_count": null,
   "metadata": {},
   "outputs": [],
   "source": [
    "plt.imshow(result)"
   ]
  },
  {
   "cell_type": "code",
   "execution_count": null,
   "metadata": {
    "colab": {},
    "colab_type": "code",
    "id": "smQVm00o7w0c"
   },
   "outputs": [],
   "source": [
    "face_list = np.float32(face_list)"
   ]
  },
  {
   "cell_type": "code",
   "execution_count": null,
   "metadata": {
    "colab": {
     "base_uri": "https://localhost:8080/",
     "height": 496
    },
    "colab_type": "code",
    "id": "7zBexGimDDNd",
    "outputId": "bca26d16-db23-4d3a-8eb0-3483c4817d8e"
   },
   "outputs": [],
   "source": [
    "compactness = []\n",
    "kvals = np.arange(1,10)\n",
    "for k in tqdm(kvals):\n",
    "    c, _, _ =  cv.kmeans(face_list, k, None, criteria, 10, flags)\n",
    "    compactness.append(c)\n",
    "plt.plot(kvals, compactness, 'o-', linewidth=4,\n",
    "        markersize=12)\n",
    "plt.xlabel('number of clusters')\n",
    "plt.ylabel('compactness')"
   ]
  },
  {
   "cell_type": "code",
   "execution_count": null,
   "metadata": {
    "colab": {},
    "colab_type": "code",
    "id": "k4GPLrX5H350"
   },
   "outputs": [],
   "source": [
    "k = 4\n",
    "compactness, clusters, centers = cv.kmeans(face_list, k, None, criteria, 10, flags)\n",
    "make_directory(SAVE_CROPPED_FACE_DIR + \"_cluster_\" + str(k))\n",
    "for i in range(k):\n",
    "    make_directory(SAVE_CROPPED_FACE_DIR + \"_cluster_\" + str(k) + '/' + str(i))"
   ]
  },
  {
   "cell_type": "code",
   "execution_count": null,
   "metadata": {
    "colab": {},
    "colab_type": "code",
    "id": "WF43WBWTjB0-"
   },
   "outputs": [],
   "source": [
    "for f_n, c_k in tqdm(zip(face_files, clusters)):\n",
    "    print(f_n, c_k )\n",
    "    shutil.copy2(SAVE_CROPPED_FACE_DIR + '/' + f_n, SAVE_CROPPED_FACE_DIR + \"_cluster_\" + str(k) + '/' + str(c_k[0]) + '/' + f_n)"
   ]
  },
  {
   "cell_type": "code",
   "execution_count": null,
   "metadata": {
    "colab": {},
    "colab_type": "code",
    "id": "QcTm4q1lixSW"
   },
   "outputs": [],
   "source": [
    "def cluster(face_list):\n",
    "     encodings = face_list\n",
    "\n",
    "     clt = DBSCAN(metric=\"euclidean\")\n",
    "     clt.fit(encodings)\n",
    "\n",
    "     label_ids = np.unique(clt.labels_)\n",
    "     num_unique_faces = len(np.where(label_ids > -1)[0])\n",
    "\n",
    "     for label_id in label_ids:\n",
    "         dir_name = \"drive/ID%d\" % label_id\n",
    "         os.mkdir(dir_name)\n",
    "\n",
    "         indexes = np.where(clt.labels_ == label_id)[0]\n",
    "\n",
    "         for i in  tqdm(indexes):\n",
    "             frame_id = face_list[i].frame_id\n",
    "             box = face_list[i].box\n",
    "             pathname = os.path.join(self.capture_dir,\n",
    "                                     self.capture_filename(frame_id))\n",
    "             image = cv2.imread(pathname)\n",
    "             face_image = self.getFaceImage(image, box)\n",
    "             filename = dir_name + \"-\" + self.capture_filename(frame_id)\n",
    "             pathname = os.path.join(dir_name, filename)\n",
    "             cv2.imwrite(pathname, face_image)"
   ]
  },
  {
   "cell_type": "code",
   "execution_count": null,
   "metadata": {
    "colab": {
     "base_uri": "https://localhost:8080/",
     "height": 36
    },
    "colab_type": "code",
    "id": "EFC2jkrGse16",
    "outputId": "bca37015-a1b0-4889-cb88-a7b337739afc"
   },
   "outputs": [],
   "source": [
    "face_list[0]"
   ]
  },
  {
   "cell_type": "code",
   "execution_count": null,
   "metadata": {
    "colab": {},
    "colab_type": "code",
    "id": "WI8FVySoDJ-X"
   },
   "outputs": [],
   "source": [
    "from sklearn.cluster import DBSCAN\n",
    "clt = DBSCAN(metric=\"euclidean\")\n",
    "clt.fit(face_list)\n",
    "\n",
    "label_ids = np.unique(clt.labels_)\n",
    "num_unique_faces = len(np.where(label_ids > -1)[0])"
   ]
  },
  {
   "cell_type": "code",
   "execution_count": null,
   "metadata": {
    "colab": {
     "base_uri": "https://localhost:8080/",
     "height": 36
    },
    "colab_type": "code",
    "id": "7pmSr9qQbUMy",
    "outputId": "05ed10c1-45e8-436d-fd4f-359ac5c6c571"
   },
   "outputs": [],
   "source": [
    "label_ids"
   ]
  },
  {
   "cell_type": "code",
   "execution_count": null,
   "metadata": {
    "colab": {
     "base_uri": "https://localhost:8080/",
     "height": 279
    },
    "colab_type": "code",
    "id": "z0fME30akCdS",
    "outputId": "718ea90e-6c42-4b35-82cc-dfdb4adb081a"
   },
   "outputs": [],
   "source": [
    "clt.labels_"
   ]
  },
  {
   "cell_type": "code",
   "execution_count": null,
   "metadata": {
    "colab": {},
    "colab_type": "code",
    "id": "RrdTCvwZsoc6"
   },
   "outputs": [],
   "source": [
    "# import the necessary packages\n",
    "from imutils import face_utils\n",
    "import numpy as np\n",
    "import argparse\n",
    "import imutils\n",
    "import dlib\n",
    "import cv2\n",
    "\n",
    "def rect_to_bb(rect):\n",
    "\t# take a bounding predicted by dlib and convert it\n",
    "\t# to the format (x, y, w, h) as we would normally do\n",
    "\t# with OpenCV\n",
    "\tx = rect.left()\n",
    "\ty = rect.top()\n",
    "\tw = rect.right() - x\n",
    "\th = rect.bottom() - y\n",
    " \n",
    "\t# return a tuple of (x, y, w, h)\n",
    "\treturn (x, y, w, h)\n",
    "\n",
    "def shape_to_np(shape, dtype=\"int\"):\n",
    "\t# initialize the list of (x, y)-coordinates\n",
    "\tcoords = np.zeros((68, 2), dtype=dtype)\n",
    " \n",
    "\t# loop over the 68 facial landmarks and convert them\n",
    "\t# to a 2-tuple of (x, y)-coordinates\n",
    "\tfor i in range(0, 68):\n",
    "\t\tcoords[i] = (shape.part(i).x, shape.part(i).y)\n",
    " \n",
    "\t# return the list of (x, y)-coordinates\n",
    "\treturn coords\n",
    "\n",
    "\n",
    " \n",
    "# construct the argument parser and parse the arguments\n",
    "ap = argparse.ArgumentParser()\n",
    "ap.add_argument(\"-p\", \"--shape-predictor\", required=True,\n",
    "\thelp=\"path to facial landmark predictor\")\n",
    "ap.add_argument(\"-i\", \"--image\", required=True,\n",
    "\thelp=\"path to input image\")\n",
    "args = vars(ap.parse_args())\n",
    "\n",
    "# initialize dlib's face detector (HOG-based) and then create\n",
    "# the facial landmark predictor\n",
    "detector = dlib.get_frontal_face_detector()\n",
    "predictor = dlib.shape_predictor(args[\"shape_predictor\"])\n",
    "\n",
    "# load the input image, resize it, and convert it to grayscale\n",
    "image = cv2.imread(args[\"image\"])\n",
    "image = imutils.resize(image, width=500)\n",
    "gray = cv2.cvtColor(image, cv2.COLOR_BGR2GRAY)\n",
    " \n",
    "# detect faces in the grayscale image\n",
    "rects = detector(gray, 1)\n",
    "\n",
    "# loop over the face detections\n",
    "for (i, rect) in enumerate(rects):\n",
    "\t# determine the facial landmarks for the face region, then\n",
    "\t# convert the facial landmark (x, y)-coordinates to a NumPy\n",
    "\t# array\n",
    "\tshape = predictor(gray, rect)\n",
    "\tshape = face_utils.shape_to_np(shape)\n",
    " \n",
    "\t# convert dlib's rectangle to a OpenCV-style bounding box\n",
    "\t# [i.e., (x, y, w, h)], then draw the face bounding box\n",
    "\t(x, y, w, h) = face_utils.rect_to_bb(rect)\n",
    "\tcv2.rectangle(image, (x, y), (x + w, y + h), (0, 255, 0), 2)\n",
    " \n",
    "\t# show the face number\n",
    "\tcv2.putText(image, \"Face #{}\".format(i + 1), (x - 10, y - 10),\n",
    "\t\tcv2.FONT_HERSHEY_SIMPLEX, 0.5, (0, 255, 0), 2)\n",
    " \n",
    "\t# loop over the (x, y)-coordinates for the facial landmarks\n",
    "\t# and draw them on the image\n",
    "\tfor (x, y) in shape:\n",
    "\t\tcv2.circle(image, (x, y), 1, (0, 0, 255), -1)\n",
    "\n",
    "# show the output image with the face detections + facial landmarks\n",
    "cv2.imshow(\"Output\", image)\n",
    "cv2.waitKey(0)\n",
    "# 하아앙앙ㅇㅇ아앙앙아앙앙앙앙아앙아아앙앙아ㅏ아아아아아아아아아아앙아아안앙아아아아아아아아아아아니안이ㅏㅇ니ㅏㅇ난안"
   ]
  },
  {
   "cell_type": "code",
   "execution_count": null,
   "metadata": {
    "scrolled": true
   },
   "outputs": [],
   "source": [
    "import sys\n",
    "import dlib\n",
    "import cv2\n",
    "import openface\n",
    "\n",
    "# https://github.com/scipy/scipy/issues/5995\n",
    "# install problem\n",
    "\n",
    "# You can download the required pre-trained face detection model here:\n",
    "# http://dlib.net/files/shape_predictor_68_face_landmarks.dat.bz2\n",
    "predictor_model = RES_DIR + \"shape_predictor_68_face_landmarks.dat\"\n",
    "\n",
    "# Take the image file name from the command line\n",
    "# file_name = sys.argv[1]\n",
    "\n",
    "# Create a HOG face detector using the built-in dlib class\n",
    "face_detector = dlib.get_frontal_face_detector()\n",
    "face_pose_predictor = dlib.shape_predictor(predictor_model)\n",
    "face_aligner = openface.AlignDlib(predictor_model)\n",
    "\n",
    "# Take the image file name from the command line\n",
    "file_name = RES_DIR + 'redvelvet.jpg'\n",
    "\n",
    "# Load the image\n",
    "image = cv2.imread(file_name)\n",
    "\n",
    "# Run the HOG face detector on the image data\n",
    "detected_faces = face_detector(image, 1)\n",
    "\n",
    "print(\"Found {} faces in the image file {}\".format(len(detected_faces), file_name))\n",
    "\n",
    "# Loop through each face we found in the image\n",
    "for i, face_rect in enumerate(detected_faces):\n",
    "\n",
    "\t# Detected faces are returned as an object with the coordinates \n",
    "\t# of the top, left, right and bottom edges\n",
    "\tprint(\"- Face #{} found at Left: {} Top: {} Right: {} Bottom: {}\".format(i, face_rect.left(), face_rect.top(), face_rect.right(), face_rect.bottom()))\n",
    "\n",
    "\t# Get the the face's pose\n",
    "\tpose_landmarks = face_pose_predictor(image, face_rect)\n",
    "\n",
    "\t# Use openface to calculate and perform the face alignment\n",
    "\talignedFace = face_aligner.align(534, image, face_rect, landmarkIndices=openface.AlignDlib.OUTER_EYES_AND_NOSE)\n",
    "\n",
    "\t# Save the aligned image to a file\n",
    "plt.imshow(\"aligned_face_{}.jpg\".format(i), alignedFace)"
   ]
  },
  {
   "cell_type": "code",
   "execution_count": 17,
   "metadata": {
    "scrolled": false
   },
   "outputs": [
    {
     "name": "stdout",
     "output_type": "stream",
     "text": [
      "Found 1 faces in the image file drive/My Drive/FaceClustering/res/redvelvet.jpg\n",
      "- Face #0 found at Left: 17 Top: 18 Right: 80 Bottom: 80\n",
      "points[(18, 35), (18, 43), (19, 51), (20, 59), (22, 67), (26, 75), (31, 81), (37, 86), (44, 88), (52, 88), (60, 84), (67, 80), (73, 73), (77, 66), (80, 58), (82, 49), (84, 40), (23, 25), (27, 21), (32, 20), (38, 21), (42, 23), (55, 25), (60, 23), (67, 23), (72, 26), (76, 30), (48, 33), (47, 38), (46, 43), (45, 48), (40, 52), (43, 53), (46, 54), (49, 54), (52, 53), (29, 33), (32, 32), (36, 32), (39, 34), (35, 35), (32, 34), (58, 36), (62, 35), (66, 35), (69, 37), (65, 38), (61, 37), (35, 64), (38, 60), (42, 58), (46, 59), (49, 59), (54, 61), (58, 66), (54, 71), (49, 73), (45, 73), (41, 72), (38, 69), (37, 64), (42, 61), (45, 61), (49, 61), (56, 65), (49, 69), (45, 69), (42, 68)]\n"
     ]
    }
   ],
   "source": [
    "# import sys\n",
    "import dlib\n",
    "# from skimage import io\n",
    "import cv2\n",
    "# You can download the required pre-trained face detection model here:\n",
    "# http://dlib.net/files/shape_predictor_68_face_landmarks.dat.bz2\n",
    "predictor_model = RES_DIR + \"shape_predictor_68_face_landmarks.dat\"\n",
    "\n",
    "# Take the image file name from the command line\n",
    "file_name = RES_DIR + 'redvelvet.jpg'\n",
    "\n",
    "# Create a HOG face detector using the built-in dlib class\n",
    "face_detector = dlib.get_frontal_face_detector()\n",
    "face_pose_predictor = dlib.shape_predictor(predictor_model)\n",
    "\n",
    "win = dlib.image_window()\n",
    "\n",
    "# Take the image file name from the command line\n",
    "# file_name = sys.argv[1]\n",
    "\n",
    "# Load the image\n",
    "# image = cv2.cvtColor(cv2.imread(file_name), cv2.COLOR_BGR2RGB)\n",
    "image = face_list[10]\n",
    "# Run the HOG face detector on the image data\n",
    "detected_faces = face_detector(image, 1)\n",
    "\n",
    "print(\"Found {} faces in the image file {}\".format(len(detected_faces), file_name))\n",
    "\n",
    "# Show the desktop window with the image\n",
    "win.set_image(image)\n",
    "\n",
    "# Loop through each face we found in the image\n",
    "for i, face_rect in enumerate(detected_faces):\n",
    "\n",
    "    # Detected faces are returned as an object with the coordinates \n",
    "    # of the top, left, right and bottom edges\n",
    "    print(\"- Face #{} found at Left: {} Top: {} Right: {} Bottom: {}\".format(i, face_rect.left(), face_rect.top(), face_rect.right(), face_rect.bottom()))\n",
    "\n",
    "    # Draw a box around each face we found\n",
    "    win.add_overlay(face_rect)\n",
    "\n",
    "    # Get the the face's pose\n",
    "    pose_landmarks = face_pose_predictor(image, face_rect)\n",
    "\n",
    "    # Draw the face landmarks on the screen.\n",
    "    win.add_overlay(pose_landmarks)  \n",
    "    print((pose_landmarks.parts()))\n",
    "    \n",
    "# print(pose_landmarks.parts['eye'])\n",
    "dlib.hit_enter_to_continue()"
   ]
  }
 ],
 "metadata": {
  "colab": {
   "collapsed_sections": [],
   "name": "FaceClustering.ipynb",
   "provenance": [],
   "version": "0.3.2"
  },
  "kernelspec": {
   "display_name": "Python 3",
   "language": "python",
   "name": "python3"
  },
  "language_info": {
   "codemirror_mode": {
    "name": "ipython",
    "version": 3
   },
   "file_extension": ".py",
   "mimetype": "text/x-python",
   "name": "python",
   "nbconvert_exporter": "python",
   "pygments_lexer": "ipython3",
   "version": "3.6.2"
  }
 },
 "nbformat": 4,
 "nbformat_minor": 1
}
