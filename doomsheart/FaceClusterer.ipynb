{
  "nbformat": 4,
  "nbformat_minor": 0,
  "metadata": {
    "colab": {
      "name": "FaceClustering.ipynb",
      "version": "0.3.2",
      "provenance": [],
      "collapsed_sections": []
    },
    "kernelspec": {
      "name": "python3",
      "display_name": "Python 3"
    }
  },
  "cells": [
    {
      "metadata": {
        "id": "5Zc8cvDNpt_K",
        "colab_type": "text"
      },
      "cell_type": "markdown",
      "source": [
        "Load Video\n",
        "\n",
        "1.   Load from Google Drive in Colab\n",
        "2.   Make directory\n",
        "\n"
      ]
    },
    {
      "metadata": {
        "id": "S-2OTT6_rJiK",
        "colab_type": "code",
        "colab": {}
      },
      "cell_type": "code",
      "source": [
        "# # Google Colab import files in google drive\n",
        "# !apt-get install -y -qq software-properties-common python-software-properties module-init-tools \n",
        "\n",
        "# !add-apt-repository -y ppa:alessandro-strada/ppa\n",
        "  \n",
        "# !apt-get update -qq\n",
        "\n",
        "# !apt-get -y install -qq google-drive-ocamlfuse fuse \n",
        "\n",
        "# from google.colab import auth\n",
        "# auth.authenticate_user()\n",
        "\n",
        "# from oauth2client.client import GoogleCredentials\n",
        "# creds = GoogleCredentials.get_application_default()\n",
        "\n",
        "# import getpass\n",
        "# !google-drive-ocamlfuse -headless -id={creds.client_id} -secret={creds.client_secret} < /dev/null 2>&1 | grep URL\n",
        "# vcode = getpass.getpass()\n",
        "# !echo {vcode} | google-drive-ocamlfuse -headless -id={creds.client_id} -secret={creds.client_secret}\n",
        "# !mkdir -p drive\n",
        "# !google-drive-ocamlfuse drive\n",
        "from google.colab import drive\n",
        "drive.mount('/content/drive')"
      ],
      "execution_count": 0,
      "outputs": []
    },
    {
      "metadata": {
        "id": "-fN-8E3DL8RA",
        "colab_type": "code",
        "colab": {
          "base_uri": "https://localhost:8080/",
          "height": 36
        },
        "outputId": "c84f4da1-a468-4a70-f2dc-c152ad03a6c1"
      },
      "cell_type": "code",
      "source": [
        "!ls 'drive/My Drive/FaceClustering/'"
      ],
      "execution_count": 35,
      "outputs": [
        {
          "output_type": "stream",
          "text": [
            "res  Video\n"
          ],
          "name": "stdout"
        }
      ]
    },
    {
      "metadata": {
        "id": "l0EbfMkai7Y6",
        "colab_type": "code",
        "colab": {
          "base_uri": "https://localhost:8080/",
          "height": 36
        },
        "outputId": "987119e7-424c-406e-b8c9-aff94131a374"
      },
      "cell_type": "code",
      "source": [
        "!pip install tqdm\n",
        "from tqdm import tqdm\n",
        "import cv2 as cv\n",
        "import numpy as np\n",
        "import os\n",
        "import datetime\n",
        "from matplotlib import pyplot as plt\n",
        "%matplotlib inline\n",
        "import shutil\n",
        "\n",
        "VIDEO_DIR = 'drive/My Drive/FaceClustering/Video/'\n",
        "VIDEO_FILE_NAME = 'PowerUp.mp4'\n",
        "# PROGRAM_START_TIME = datetime.datetime.now().strftime('%Y%m%d_%H-%M-%S')\n",
        "# PROGRAM_START_TIME = datetime.datetime.now().strftime('%Y%m%d')\n",
        "PROGRAM_START_TIME = '20180827'\n",
        "SAVE_CROPPED_FACE_DIR = 'drive/My Drive/FaceClustering/Cropped_imgs/' + PROGRAM_START_TIME + '-' + VIDEO_FILE_NAME.split('.')[0]\n",
        "CASCADE_DIR = 'drive/My Drive/FaceClustering/res/lbpcascade_frontalface_improved.xml'\n",
        "\n",
        "criteria = (cv.TERM_CRITERIA_EPS + cv.TERM_CRITERIA_MAX_ITER, 10, 1.0)\n",
        "flags = cv.KMEANS_RANDOM_CENTERS\n",
        "\n",
        "def make_directory(_directory_name):\n",
        "    if not os.path.exists(_directory_name):\n",
        "        os.makedirs(_directory_name)\n",
        "        \n",
        "def get_area_of_frame_face_recognition(img, face_cascade):\n",
        "    grayed_img = cv.cvtColor(img, cv.COLOR_BGR2GRAY)\n",
        "    # def detectMultiScale(self, image, scaleFactor=None, minNeighbors=None, flags=None, minSize=None, maxSize=None)\n",
        "    face_area = face_cascade.detectMultiScale(image=grayed_img,scaleFactor=1.3,minNeighbors=5)\n",
        "    return face_area\n",
        "  \n",
        "def get_frame(video_capture, frame):\n",
        "    video_capture.set(cv.CAP_PROP_POS_FRAMES, frame)\n",
        "    ret, img = video_capture.read()\n",
        "    return img, frame, ret\n",
        "\n",
        "def save_cropped_img(img, faces, frame):\n",
        "    i = 0\n",
        "    if len(faces) != 0:\n",
        "        for (x, y, w, h) in faces:\n",
        "            iter = 0.4          \n",
        "            while True:\n",
        "                try:\n",
        "                    face_img = img[int(y - h * iter): int(y + (1 + iter) * h),\n",
        "                                   int(x - w * iter): int(x + (1 + iter) * w)]\n",
        "                    if int(y - h * iter) < 0 or int(x - w * iter) < 0:\n",
        "                        raise ValueError('range is false')\n",
        "                    break\n",
        "                except:\n",
        "                    iter = iter * 0.8\n",
        "                  #             cv.imwrite(SAVE_CROPPED_FACE_DIR + \"/\" + str(frame) + \"_\" + str(i) + \".jpg\", img[y:y + h, x: x + w])\n",
        "            try:\n",
        "                cv.imwrite(SAVE_CROPPED_FACE_DIR + \"/\" + str(frame) + \"_\" + str(i) + \".jpg\", cv.resize(face_img, (96, 96), interpolation=cv.INTER_AREA))\n",
        "            except:\n",
        "                print(int(y - h * iter))\n",
        "                print(int(x - w * iter))\n",
        "            i += 1\n",
        "\n",
        "# this function show image and quit when press q or end\n",
        "def show_img(img, faces):\n",
        "    if len(faces) != 0:\n",
        "        for (x, y, w, h) in faces:\n",
        "            cv.rectangle(img, (x, y), (x + w, y + h), (255, 0, 0), 1)\n",
        "    cv.imshow('hello', img)\n",
        "    if cv.waitKey(1) & 0xFF == ord('q'):\n",
        "        return False\n",
        "    else:\n",
        "        return True\n",
        "      \n",
        "def ORB():\n",
        "    img = cv.imread(SAVE_CROPPED_FACE_DIR + '/130_0.jpg')\n",
        "    imgray = cv.cvtColor(img, cv.COLOR_BGR2GRAY)\n",
        "    img2 = None\n",
        "    orb = cv.ORB_create()\n",
        "    kp, des = orb.detectAndCompute(img, None)\n",
        "#     img2 = cv.drawKeypoints(img, kp, img2, (0, 0, 255), flags=0)\n",
        "#     plt.imshow(img2)\n",
        "    return kp, des \n",
        "\n",
        "def HarrisCorner():\n",
        "    img = cv.imread(SAVE_CROPPED_FACE_DIR + '/130_0.jpg')\n",
        "    img_gray = cv.cvtColor(img, cv.COLOR_BGR2GRAY)\n",
        "    corners = cv.cornerHarris(img_gray, 2, 3, 0.04)\n",
        "#     plt.figure(figsize=(6, 6))\n",
        "#     plt.imshow(corners, cmap='gray')\n",
        "    return coners"
      ],
      "execution_count": 43,
      "outputs": [
        {
          "output_type": "stream",
          "text": [
            "Requirement already satisfied: tqdm in /usr/local/lib/python3.6/dist-packages (4.26.0)\n"
          ],
          "name": "stdout"
        }
      ]
    },
    {
      "metadata": {
        "id": "F90yiqWvrcMq",
        "colab_type": "code",
        "colab": {
          "base_uri": "https://localhost:8080/",
          "height": 36
        },
        "outputId": "aff2faa9-c908-4cb4-c9d6-c4e8e144dbee"
      },
      "cell_type": "code",
      "source": [
        "make_directory(SAVE_CROPPED_FACE_DIR)\n",
        "m_video_capture = cv.VideoCapture(VIDEO_DIR + VIDEO_FILE_NAME)\n",
        "m_face_cascade = cv.CascadeClassifier(CASCADE_DIR)\n",
        "TOTAL_FRAME = m_video_capture.get(cv.CAP_PROP_FRAME_COUNT)\n",
        "FRAME_STEP = 10\n",
        "LOAD_FAIL = []\n",
        "if len(os.listdir(SAVE_CROPPED_FACE_DIR)) == 0:\n",
        "    for frame in tqdm(range(0, int(TOTAL_FRAME), FRAME_STEP)):\n",
        "        img, frame, ret = get_frame(video_capture=m_video_capture, frame=frame)\n",
        "        if not ret:\n",
        "            LOAD_FAIL.append(frame)\n",
        "            continue\n",
        "        faces_area = get_area_of_frame_face_recognition(img=img, face_cascade=m_face_cascade)\n",
        "        save_cropped_img(img, faces_area, frame)\n",
        "    if len(LOAD_FAIL) > 0:\n",
        "        print(\"Fail to load %d of frame(s)\" % len(LOAD_FAIL))\n",
        "        print(LOAD_FAIL)\n",
        "else:    \n",
        "    print(\"Directory is not empty\")\n",
        "    print(\"Already extracted in %s\" % PROGRAM_START_TIME)"
      ],
      "execution_count": 44,
      "outputs": [
        {
          "output_type": "stream",
          "text": [
            "100%|██████████| 498/498 [03:22<00:00,  3.62it/s]\n"
          ],
          "name": "stderr"
        }
      ]
    },
    {
      "metadata": {
        "id": "E0IsjxmvNBox",
        "colab_type": "code",
        "colab": {
          "base_uri": "https://localhost:8080/",
          "height": 36
        },
        "outputId": "8db56bd2-ee86-4ab2-9b04-2b14c87e986c"
      },
      "cell_type": "code",
      "source": [
        "SAVE_CROPPED_FACE_DIR"
      ],
      "execution_count": 39,
      "outputs": [
        {
          "output_type": "execute_result",
          "data": {
            "text/plain": [
              "'drive/My Drive/Cropped_imgs/20180827-PowerUp'"
            ]
          },
          "metadata": {
            "tags": []
          },
          "execution_count": 39
        }
      ]
    },
    {
      "metadata": {
        "id": "EKgu64MqM64S",
        "colab_type": "code",
        "colab": {
          "base_uri": "https://localhost:8080/",
          "height": 747
        },
        "outputId": "d6c7835c-7499-4b5b-d90d-9e644c59d89a"
      },
      "cell_type": "code",
      "source": [
        "!ls 'drive/My Drive/Cropped_imgs/20180827-PowerUp'"
      ],
      "execution_count": 41,
      "outputs": [
        {
          "output_type": "stream",
          "text": [
            "1000_0.jpg  170_0.jpg\t2680_0.jpg  3300_0.jpg\t3840_0.jpg  4770_3.jpg\n",
            "1010_0.jpg  1860_0.jpg\t2680_1.jpg  330_0.jpg\t390_0.jpg   4780_0.jpg\n",
            "1010_1.jpg  1870_0.jpg\t2680_2.jpg  3310_0.jpg\t3920_0.jpg  4780_1.jpg\n",
            "1020_0.jpg  1890_0.jpg\t2690_0.jpg  3380_0.jpg\t3920_1.jpg  4780_2.jpg\n",
            "1020_1.jpg  1920_0.jpg\t2720_0.jpg  3380_1.jpg\t3930_0.jpg  4780_3.jpg\n",
            "1030_0.jpg  1920_1.jpg\t2730_0.jpg  3390_0.jpg\t3940_0.jpg  480_0.jpg\n",
            "1030_1.jpg  1930_0.jpg\t2740_0.jpg  3390_1.jpg\t400_0.jpg   540_0.jpg\n",
            "1030_2.jpg  1930_1.jpg\t2740_1.jpg  3400_0.jpg\t4030_0.jpg  550_0.jpg\n",
            "1090_0.jpg  1990_0.jpg\t2750_0.jpg  340_0.jpg\t4030_1.jpg  560_0.jpg\n",
            "1110_0.jpg  2010_0.jpg\t2750_1.jpg  3410_0.jpg\t4050_0.jpg  570_0.jpg\n",
            "1200_0.jpg  2020_0.jpg\t2880_0.jpg  3460_0.jpg\t4050_1.jpg  580_0.jpg\n",
            "120_0.jpg   2070_0.jpg\t2920_0.jpg  3460_1.jpg\t4050_2.jpg  590_0.jpg\n",
            "1210_0.jpg  2150_0.jpg\t2940_0.jpg  3470_0.jpg\t4060_0.jpg  600_0.jpg\n",
            "130_0.jpg   2180_0.jpg\t2970_0.jpg  3470_1.jpg\t4070_0.jpg  620_0.jpg\n",
            "1340_0.jpg  2190_0.jpg\t2970_1.jpg  3490_0.jpg\t4080_0.jpg  670_0.jpg\n",
            "1350_0.jpg  2220_0.jpg\t2970_2.jpg  350_0.jpg\t4090_0.jpg  730_0.jpg\n",
            "1360_0.jpg  2230_0.jpg\t3050_0.jpg  3510_0.jpg\t4090_1.jpg  740_0.jpg\n",
            "1370_0.jpg  2240_0.jpg\t3080_0.jpg  3510_1.jpg\t4090_2.jpg  780_0.jpg\n",
            "1380_0.jpg  2250_0.jpg\t3130_0.jpg  3520_0.jpg\t4100_0.jpg  780_1.jpg\n",
            "1400_0.jpg  2260_0.jpg\t3190_0.jpg  3580_0.jpg\t4100_1.jpg  790_0.jpg\n",
            "1440_0.jpg  2280_0.jpg\t3200_0.jpg  3600_0.jpg\t4120_0.jpg  790_1.jpg\n",
            "1450_0.jpg  2310_0.jpg\t3200_1.jpg  360_0.jpg\t4300_0.jpg  790_2.jpg\n",
            "1460_0.jpg  2330_0.jpg\t3210_0.jpg  3610_0.jpg\t430_0.jpg   800_0.jpg\n",
            "1470_0.jpg  2340_0.jpg\t3210_1.jpg  3610_1.jpg\t4310_0.jpg  800_1.jpg\n",
            "1500_0.jpg  2350_0.jpg\t3220_0.jpg  3640_0.jpg\t4320_0.jpg  900_0.jpg\n",
            "1510_0.jpg  2490_0.jpg\t3220_1.jpg  3690_0.jpg\t4370_0.jpg  910_0.jpg\n",
            "1510_1.jpg  2530_0.jpg\t3230_0.jpg  3700_0.jpg\t4380_0.jpg  920_0.jpg\n",
            "1520_0.jpg  2540_0.jpg\t3240_0.jpg  370_0.jpg\t4380_1.jpg  930_0.jpg\n",
            "1530_0.jpg  2540_1.jpg\t3240_1.jpg  3720_0.jpg\t440_0.jpg   940_0.jpg\n",
            "1540_0.jpg  2540_2.jpg\t3240_2.jpg  3730_0.jpg\t440_1.jpg   950_0.jpg\n",
            "1590_0.jpg  2550_0.jpg\t3250_0.jpg  3730_1.jpg\t4640_0.jpg  970_0.jpg\n",
            "1600_0.jpg  2560_0.jpg\t3260_0.jpg  3740_0.jpg\t4650_0.jpg  980_0.jpg\n",
            "160_0.jpg   2570_0.jpg\t3260_1.jpg  3750_0.jpg\t470_0.jpg   990_0.jpg\n",
            "1620_0.jpg  2580_0.jpg\t3270_0.jpg  3760_0.jpg\t4720_0.jpg\n",
            "1640_0.jpg  2660_0.jpg\t3270_1.jpg  3780_0.jpg\t4730_0.jpg\n",
            "1650_0.jpg  2660_1.jpg\t3280_0.jpg  3790_0.jpg\t4770_0.jpg\n",
            "1660_0.jpg  2670_0.jpg\t3290_0.jpg  380_0.jpg\t4770_1.jpg\n",
            "1670_0.jpg  2670_1.jpg\t3290_1.jpg  3830_0.jpg\t4770_2.jpg\n"
          ],
          "name": "stdout"
        }
      ]
    },
    {
      "metadata": {
        "id": "-IVzAeFDynS-",
        "colab_type": "code",
        "colab": {
          "base_uri": "https://localhost:8080/",
          "height": 913
        },
        "outputId": "311f702f-2a34-4b4b-e76e-d2683a0d8f46"
      },
      "cell_type": "code",
      "source": [
        "face_list = []\n",
        "face_files = os.listdir(SAVE_CROPPED_FACE_DIR)\n",
        "for face_file_name in tqdm(face_files):\n",
        "    img = cv.imread(SAVE_CROPPED_FACE_DIR + '/' + face_file_name)\n",
        "    img_gray = cv.cvtColor(img, cv.COLOR_BGR2GRAY)\n",
        "    img_blur = cv.GaussianBlur(img_gray, (3,3), 0)\n",
        "    img_sharp = cv.Laplacian(img_blur, cv.CV_64F)\n",
        "#     corners = cv.cornerHarris(img_gray, 2, 3, 0.04)\n",
        "#     face_list.append(img_gray)\n",
        "    face_list.append(img_sharp.flatten())\n",
        "#     rgb_img = cv.cvtColor(img, cv.COLOR_BGR2RGB)\n",
        "#     face_list.append(rgb_img)"
      ],
      "execution_count": 0,
      "outputs": [
        {
          "output_type": "stream",
          "text": [
            "\n",
            "  0%|          | 0/223 [00:00<?, ?it/s]\u001b[A\n",
            "  2%|▏         | 5/223 [00:00<00:05, 42.06it/s]\u001b[A\n",
            "  4%|▍         | 9/223 [00:00<00:05, 40.28it/s]\u001b[A\n",
            "  6%|▋         | 14/223 [00:00<00:05, 40.33it/s]\u001b[A\n",
            "  8%|▊         | 18/223 [00:00<00:05, 39.65it/s]\u001b[A\n",
            " 10%|▉         | 22/223 [00:00<00:05, 39.05it/s]\u001b[A\n",
            " 12%|█▏        | 26/223 [00:00<00:05, 39.02it/s]\u001b[A\n",
            " 13%|█▎        | 30/223 [00:00<00:04, 38.78it/s]\u001b[A\n",
            " 16%|█▌        | 35/223 [00:00<00:04, 39.08it/s]\u001b[A\n",
            " 18%|█▊        | 40/223 [00:01<00:04, 39.89it/s]\u001b[A\n",
            " 20%|██        | 45/223 [00:01<00:04, 40.03it/s]\u001b[A\n",
            " 22%|██▏       | 50/223 [00:01<00:04, 40.26it/s]\u001b[A\n",
            " 25%|██▍       | 55/223 [00:01<00:04, 40.65it/s]\u001b[A\n",
            " 27%|██▋       | 60/223 [00:01<00:03, 40.84it/s]\u001b[A\n",
            " 29%|██▉       | 65/223 [00:01<00:03, 41.18it/s]\u001b[A\n",
            " 31%|███▏      | 70/223 [00:01<00:03, 41.38it/s]\u001b[A\n",
            " 34%|███▎      | 75/223 [00:01<00:03, 41.68it/s]\u001b[A\n",
            " 36%|███▌      | 80/223 [00:01<00:03, 41.68it/s]\u001b[A\n",
            " 38%|███▊      | 85/223 [00:02<00:03, 41.85it/s]\u001b[A\n",
            " 40%|████      | 90/223 [00:02<00:03, 41.97it/s]\u001b[A\n",
            " 43%|████▎     | 95/223 [00:02<00:03, 42.03it/s]\u001b[A\n",
            " 45%|████▍     | 100/223 [00:02<00:02, 42.11it/s]\u001b[A\n",
            " 47%|████▋     | 105/223 [00:02<00:02, 42.18it/s]\u001b[A\n",
            " 49%|████▉     | 110/223 [00:02<00:02, 42.12it/s]\u001b[A\n",
            " 52%|█████▏    | 115/223 [00:02<00:02, 42.24it/s]\u001b[A\n",
            " 54%|█████▍    | 120/223 [00:02<00:02, 42.23it/s]\u001b[A\n",
            " 56%|█████▌    | 125/223 [00:02<00:02, 42.32it/s]\u001b[A\n",
            " 58%|█████▊    | 130/223 [00:03<00:02, 42.38it/s]\u001b[A\n",
            " 61%|██████    | 135/223 [00:03<00:02, 42.39it/s]\u001b[A\n",
            " 63%|██████▎   | 140/223 [00:03<00:01, 42.50it/s]\u001b[A\n",
            " 65%|██████▌   | 145/223 [00:03<00:01, 42.56it/s]\u001b[A\n",
            " 67%|██████▋   | 150/223 [00:03<00:01, 42.67it/s]\u001b[A\n",
            " 70%|██████▉   | 155/223 [00:03<00:01, 42.69it/s]\u001b[A\n",
            " 72%|███████▏  | 160/223 [00:03<00:01, 42.78it/s]\u001b[A\n",
            " 74%|███████▍  | 165/223 [00:03<00:01, 42.83it/s]\u001b[A\n",
            " 76%|███████▌  | 170/223 [00:03<00:01, 42.83it/s]\u001b[A\n",
            " 78%|███████▊  | 175/223 [00:04<00:01, 42.93it/s]\u001b[A\n",
            " 81%|████████  | 180/223 [00:04<00:00, 43.03it/s]\u001b[A\n",
            " 83%|████████▎ | 185/223 [00:04<00:00, 43.02it/s]\u001b[A\n",
            " 85%|████████▌ | 190/223 [00:04<00:00, 43.07it/s]\u001b[A\n",
            " 87%|████████▋ | 195/223 [00:04<00:00, 43.10it/s]\u001b[A\n",
            " 90%|████████▉ | 200/223 [00:04<00:00, 43.11it/s]\u001b[A\n",
            " 92%|█████████▏| 205/223 [00:04<00:00, 43.14it/s]\u001b[A\n",
            " 94%|█████████▍| 210/223 [00:04<00:00, 43.17it/s]\u001b[A\n",
            " 96%|█████████▋| 215/223 [00:04<00:00, 43.21it/s]\u001b[A\n",
            " 99%|█████████▊| 220/223 [00:05<00:00, 43.28it/s]\u001b[A\n",
            "100%|██████████| 223/223 [00:05<00:00, 43.23it/s]\u001b[A"
          ],
          "name": "stderr"
        }
      ]
    },
    {
      "metadata": {
        "id": "zA-dTHpVa1zk",
        "colab_type": "code",
        "colab": {
          "base_uri": "https://localhost:8080/",
          "height": 285
        },
        "outputId": "7d3515b7-e166-4057-bad5-4952b518f2ec"
      },
      "cell_type": "code",
      "source": [
        "plt.imshow(face_list[10])"
      ],
      "execution_count": 0,
      "outputs": [
        {
          "output_type": "execute_result",
          "data": {
            "text/plain": [
              "<matplotlib.image.AxesImage at 0x7efdc63ab198>"
            ]
          },
          "metadata": {
            "tags": []
          },
          "execution_count": 11
        },
        {
          "output_type": "display_data",
          "data": {
            "image/png": "[encoded data removed]",
            "text/plain": [
              "<matplotlib.figure.Figure at 0x7efdc6c107f0>"
            ]
          },
          "metadata": {
            "tags": []
          }
        }
      ]
    },
    {
      "metadata": {
        "id": "smQVm00o7w0c",
        "colab_type": "code",
        "colab": {}
      },
      "cell_type": "code",
      "source": [
        "face_list = np.float32(face_list)"
      ],
      "execution_count": 0,
      "outputs": []
    },
    {
      "metadata": {
        "id": "7zBexGimDDNd",
        "colab_type": "code",
        "colab": {
          "base_uri": "https://localhost:8080/",
          "height": 496
        },
        "outputId": "bca26d16-db23-4d3a-8eb0-3483c4817d8e"
      },
      "cell_type": "code",
      "source": [
        "compactness = []\n",
        "kvals = np.arange(1,10)\n",
        "for k in tqdm(kvals):\n",
        "    c, _, _ =  cv.kmeans(face_list, k, None, criteria, 10, flags)\n",
        "    compactness.append(c)\n",
        "plt.plot(kvals, compactness, 'o-', linewidth=4,\n",
        "        markersize=12)\n",
        "plt.xlabel('number of clusters')\n",
        "plt.ylabel('compactness')"
      ],
      "execution_count": 0,
      "outputs": [
        {
          "output_type": "stream",
          "text": [
            "\n",
            "  0%|          | 0/9 [00:00<?, ?it/s]\u001b[A\n",
            " 22%|██▏       | 2/9 [00:00<00:00,  7.32it/s]\u001b[A\n",
            " 33%|███▎      | 3/9 [00:00<00:01,  5.17it/s]\u001b[A\n",
            " 44%|████▍     | 4/9 [00:00<00:01,  4.33it/s]\u001b[A\n",
            " 56%|█████▌    | 5/9 [00:01<00:01,  3.51it/s]\u001b[A\n",
            " 67%|██████▋   | 6/9 [00:01<00:00,  3.08it/s]\u001b[A\n",
            " 78%|███████▊  | 7/9 [00:02<00:00,  2.69it/s]\u001b[A\n",
            " 89%|████████▉ | 8/9 [00:03<00:00,  2.41it/s]\u001b[A\n",
            "100%|██████████| 9/9 [00:04<00:00,  2.16it/s]\u001b[A\n",
            "\u001b[A"
          ],
          "name": "stderr"
        },
        {
          "output_type": "execute_result",
          "data": {
            "text/plain": [
              "Text(0,0.5,'compactness')"
            ]
          },
          "metadata": {
            "tags": []
          },
          "execution_count": 17
        },
        {
          "output_type": "display_data",
          "data": {
            "image/png": "[encoded data removed]",
            "text/plain": [
              "<matplotlib.figure.Figure at 0x7f866a5a75c0>"
            ]
          },
          "metadata": {
            "tags": []
          }
        }
      ]
    },
    {
      "metadata": {
        "id": "k4GPLrX5H350",
        "colab_type": "code",
        "colab": {}
      },
      "cell_type": "code",
      "source": [
        "k = 4\n",
        "compactness, clusters, centers = cv.kmeans(face_list, k, None, criteria, 10, flags)\n",
        "make_directory(SAVE_CROPPED_FACE_DIR + \"_cluster_\" + str(k))\n",
        "for i in range(k):\n",
        "    make_directory(SAVE_CROPPED_FACE_DIR + \"_cluster_\" + str(k) + '/' + str(i))"
      ],
      "execution_count": 0,
      "outputs": []
    },
    {
      "metadata": {
        "id": "WF43WBWTjB0-",
        "colab_type": "code",
        "colab": {}
      },
      "cell_type": "code",
      "source": [
        "for f_n, c_k in tqdm(zip(face_files, clusters)):\n",
        "    print(f_n, c_k )\n",
        "    shutil.copy2(SAVE_CROPPED_FACE_DIR + '/' + f_n, SAVE_CROPPED_FACE_DIR + \"_cluster_\" + str(k) + '/' + str(c_k[0]) + '/' + f_n)"
      ],
      "execution_count": 0,
      "outputs": []
    },
    {
      "metadata": {
        "id": "QcTm4q1lixSW",
        "colab_type": "code",
        "colab": {}
      },
      "cell_type": "code",
      "source": [
        "def cluster(face_list):\n",
        "     encodings = face_list\n",
        "\n",
        "     clt = DBSCAN(metric=\"euclidean\")\n",
        "     clt.fit(encodings)\n",
        "\n",
        "     label_ids = np.unique(clt.labels_)\n",
        "     num_unique_faces = len(np.where(label_ids > -1)[0])\n",
        "\n",
        "     for label_id in label_ids:\n",
        "         dir_name = \"drive/ID%d\" % label_id\n",
        "         os.mkdir(dir_name)\n",
        "\n",
        "         indexes = np.where(clt.labels_ == label_id)[0]\n",
        "\n",
        "         for i in  tqdm(indexes):\n",
        "             frame_id = face_list[i].frame_id\n",
        "             box = face_list[i].box\n",
        "             pathname = os.path.join(self.capture_dir,\n",
        "                                     self.capture_filename(frame_id))\n",
        "             image = cv2.imread(pathname)\n",
        "             face_image = self.getFaceImage(image, box)\n",
        "             filename = dir_name + \"-\" + self.capture_filename(frame_id)\n",
        "             pathname = os.path.join(dir_name, filename)\n",
        "             cv2.imwrite(pathname, face_image)"
      ],
      "execution_count": 0,
      "outputs": []
    },
    {
      "metadata": {
        "id": "EFC2jkrGse16",
        "colab_type": "code",
        "colab": {
          "base_uri": "https://localhost:8080/",
          "height": 36
        },
        "outputId": "bca37015-a1b0-4889-cb88-a7b337739afc"
      },
      "cell_type": "code",
      "source": [
        "face_list[0]"
      ],
      "execution_count": 0,
      "outputs": [
        {
          "output_type": "execute_result",
          "data": {
            "text/plain": [
              "array([ -8., -32., -36., ...,  29.,  -1., -48.], dtype=float32)"
            ]
          },
          "metadata": {
            "tags": []
          },
          "execution_count": 22
        }
      ]
    },
    {
      "metadata": {
        "id": "WI8FVySoDJ-X",
        "colab_type": "code",
        "colab": {}
      },
      "cell_type": "code",
      "source": [
        "from sklearn.cluster import DBSCAN\n",
        "clt = DBSCAN(metric=\"euclidean\")\n",
        "clt.fit(face_list)\n",
        "\n",
        "label_ids = np.unique(clt.labels_)\n",
        "num_unique_faces = len(np.where(label_ids > -1)[0])"
      ],
      "execution_count": 0,
      "outputs": []
    },
    {
      "metadata": {
        "id": "7pmSr9qQbUMy",
        "colab_type": "code",
        "colab": {
          "base_uri": "https://localhost:8080/",
          "height": 36
        },
        "outputId": "05ed10c1-45e8-436d-fd4f-359ac5c6c571"
      },
      "cell_type": "code",
      "source": [
        "label_ids"
      ],
      "execution_count": 0,
      "outputs": [
        {
          "output_type": "execute_result",
          "data": {
            "text/plain": [
              "array([-1])"
            ]
          },
          "metadata": {
            "tags": []
          },
          "execution_count": 24
        }
      ]
    },
    {
      "metadata": {
        "id": "z0fME30akCdS",
        "colab_type": "code",
        "colab": {
          "base_uri": "https://localhost:8080/",
          "height": 279
        },
        "outputId": "718ea90e-6c42-4b35-82cc-dfdb4adb081a"
      },
      "cell_type": "code",
      "source": [
        "clt.labels_"
      ],
      "execution_count": 0,
      "outputs": [
        {
          "output_type": "execute_result",
          "data": {
            "text/plain": [
              "array([-1, -1, -1, -1, -1, -1, -1, -1, -1, -1, -1, -1, -1, -1, -1, -1, -1,\n",
              "       -1, -1, -1, -1, -1, -1, -1, -1, -1, -1, -1, -1, -1, -1, -1, -1, -1,\n",
              "       -1, -1, -1, -1, -1, -1, -1, -1, -1, -1, -1, -1, -1, -1, -1, -1, -1,\n",
              "       -1, -1, -1, -1, -1, -1, -1, -1, -1, -1, -1, -1, -1, -1, -1, -1, -1,\n",
              "       -1, -1, -1, -1, -1, -1, -1, -1, -1, -1, -1, -1, -1, -1, -1, -1, -1,\n",
              "       -1, -1, -1, -1, -1, -1, -1, -1, -1, -1, -1, -1, -1, -1, -1, -1, -1,\n",
              "       -1, -1, -1, -1, -1, -1, -1, -1, -1, -1, -1, -1, -1, -1, -1, -1, -1,\n",
              "       -1, -1, -1, -1, -1, -1, -1, -1, -1, -1, -1, -1, -1, -1, -1, -1, -1,\n",
              "       -1, -1, -1, -1, -1, -1, -1, -1, -1, -1, -1, -1, -1, -1, -1, -1, -1,\n",
              "       -1, -1, -1, -1, -1, -1, -1, -1, -1, -1, -1, -1, -1, -1, -1, -1, -1,\n",
              "       -1, -1, -1, -1, -1, -1, -1, -1, -1, -1, -1, -1, -1, -1, -1, -1, -1,\n",
              "       -1, -1, -1, -1, -1, -1, -1, -1, -1, -1, -1, -1, -1, -1, -1, -1, -1,\n",
              "       -1, -1, -1, -1, -1, -1, -1, -1, -1, -1, -1, -1, -1, -1, -1, -1, -1,\n",
              "       -1, -1])"
            ]
          },
          "metadata": {
            "tags": []
          },
          "execution_count": 25
        }
      ]
    },
    {
      "metadata": {
        "id": "RrdTCvwZsoc6",
        "colab_type": "code",
        "colab": {}
      },
      "cell_type": "code",
      "source": [
        "# import the necessary packages\n",
        "from imutils import face_utils\n",
        "import numpy as np\n",
        "import argparse\n",
        "import imutils\n",
        "import dlib\n",
        "import cv2\n",
        "\n",
        "def rect_to_bb(rect):\n",
        "\t# take a bounding predicted by dlib and convert it\n",
        "\t# to the format (x, y, w, h) as we would normally do\n",
        "\t# with OpenCV\n",
        "\tx = rect.left()\n",
        "\ty = rect.top()\n",
        "\tw = rect.right() - x\n",
        "\th = rect.bottom() - y\n",
        " \n",
        "\t# return a tuple of (x, y, w, h)\n",
        "\treturn (x, y, w, h)\n",
        "\n",
        "def shape_to_np(shape, dtype=\"int\"):\n",
        "\t# initialize the list of (x, y)-coordinates\n",
        "\tcoords = np.zeros((68, 2), dtype=dtype)\n",
        " \n",
        "\t# loop over the 68 facial landmarks and convert them\n",
        "\t# to a 2-tuple of (x, y)-coordinates\n",
        "\tfor i in range(0, 68):\n",
        "\t\tcoords[i] = (shape.part(i).x, shape.part(i).y)\n",
        " \n",
        "\t# return the list of (x, y)-coordinates\n",
        "\treturn coords\n",
        "\n",
        "\n",
        " \n",
        "# construct the argument parser and parse the arguments\n",
        "ap = argparse.ArgumentParser()\n",
        "ap.add_argument(\"-p\", \"--shape-predictor\", required=True,\n",
        "\thelp=\"path to facial landmark predictor\")\n",
        "ap.add_argument(\"-i\", \"--image\", required=True,\n",
        "\thelp=\"path to input image\")\n",
        "args = vars(ap.parse_args())\n",
        "\n",
        "# initialize dlib's face detector (HOG-based) and then create\n",
        "# the facial landmark predictor\n",
        "detector = dlib.get_frontal_face_detector()\n",
        "predictor = dlib.shape_predictor(args[\"shape_predictor\"])\n",
        "\n",
        "# load the input image, resize it, and convert it to grayscale\n",
        "image = cv2.imread(args[\"image\"])\n",
        "image = imutils.resize(image, width=500)\n",
        "gray = cv2.cvtColor(image, cv2.COLOR_BGR2GRAY)\n",
        " \n",
        "# detect faces in the grayscale image\n",
        "rects = detector(gray, 1)\n",
        "\n",
        "# loop over the face detections\n",
        "for (i, rect) in enumerate(rects):\n",
        "\t# determine the facial landmarks for the face region, then\n",
        "\t# convert the facial landmark (x, y)-coordinates to a NumPy\n",
        "\t# array\n",
        "\tshape = predictor(gray, rect)\n",
        "\tshape = face_utils.shape_to_np(shape)\n",
        " \n",
        "\t# convert dlib's rectangle to a OpenCV-style bounding box\n",
        "\t# [i.e., (x, y, w, h)], then draw the face bounding box\n",
        "\t(x, y, w, h) = face_utils.rect_to_bb(rect)\n",
        "\tcv2.rectangle(image, (x, y), (x + w, y + h), (0, 255, 0), 2)\n",
        " \n",
        "\t# show the face number\n",
        "\tcv2.putText(image, \"Face #{}\".format(i + 1), (x - 10, y - 10),\n",
        "\t\tcv2.FONT_HERSHEY_SIMPLEX, 0.5, (0, 255, 0), 2)\n",
        " \n",
        "\t# loop over the (x, y)-coordinates for the facial landmarks\n",
        "\t# and draw them on the image\n",
        "\tfor (x, y) in shape:\n",
        "\t\tcv2.circle(image, (x, y), 1, (0, 0, 255), -1)\n",
        "\n",
        "# show the output image with the face detections + facial landmarks\n",
        "cv2.imshow(\"Output\", image)\n",
        "cv2.waitKey(0)\n",
        "# 하아앙앙ㅇㅇ아앙앙아앙앙앙앙아앙아아앙앙아ㅏ아아아아아아아아아아앙아아안앙아아아아아아아아아아아니안이ㅏㅇ니ㅏㅇ난안"
      ],
      "execution_count": 0,
      "outputs": []
    }
  ]
}